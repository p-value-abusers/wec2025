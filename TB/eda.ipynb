{
 "cells": [
  {
   "cell_type": "code",
   "execution_count": 4,
   "metadata": {},
   "outputs": [
    {
     "name": "stdout",
     "output_type": "stream",
     "text": [
      "/Users/tymoteuszbarcinski/DTU/WEC2025/wec2025/TB\n"
     ]
    }
   ],
   "source": [
    "import pandas as pd\n",
    "import xgboost as xgb\n",
    "from sklearn.model_selection import train_test_split\n",
    "import numpy as np\n",
    "import matplotlib.pyplot as plt\n",
    "import os\n",
    "\n",
    "print(os.getcwd())\n",
    "\n",
    "import sys\n",
    "from pathlib import Path"
   ]
  },
  {
   "cell_type": "code",
   "execution_count": 5,
   "metadata": {},
   "outputs": [
    {
     "data": {
      "text/plain": [
       "PosixPath('/Users/tymoteuszbarcinski/DTU/WEC2025/wec2025')"
      ]
     },
     "execution_count": 5,
     "metadata": {},
     "output_type": "execute_result"
    }
   ],
   "source": [
    "Path().resolve().parent"
   ]
  },
  {
   "cell_type": "code",
   "execution_count": 10,
   "metadata": {},
   "outputs": [
    {
     "name": "stdout",
     "output_type": "stream",
     "text": [
      "ROOT_PATH=PosixPath('/Users/tymoteuszbarcinski/DTU/WEC2025/wec2025')\n",
      "DATA_PATH=PosixPath('/Users/tymoteuszbarcinski/DTU/WEC2025/wec2025/for_participants/data_parquet')\n"
     ]
    }
   ],
   "source": [
    "# Add utils to path\n",
    "ROOT_PATH = Path().resolve().parent\n",
    "print(f\"{ROOT_PATH=}\")\n",
    "DATA_PATH = ROOT_PATH / \"for_participants\" / \"data_parquet\"\n",
    "assert DATA_PATH.exists()\n",
    "sys.path.append(str(ROOT_PATH))\n",
    "print(f\"{DATA_PATH=}\")\n",
    "\n",
    "# ASSIGNMENT_DIR = Path().resolve().parent\n",
    "# HANDIN_DIR = ASSIGNMENT_DIR / 'handin'\n",
    "OUTPUT_DIR = ROOT_PATH / 'output'"
   ]
  },
  {
   "cell_type": "markdown",
   "metadata": {},
   "source": [
    "# Buildings"
   ]
  },
  {
   "cell_type": "code",
   "execution_count": null,
   "metadata": {},
   "outputs": [],
   "source": [
    "df_buildings = pd.read_parquet(DATA_PATH / 'buildings.parquet')\n",
    "print(df_buildings.shape)"
   ]
  },
  {
   "cell_type": "code",
   "execution_count": 14,
   "metadata": {},
   "outputs": [
    {
     "data": {
      "text/html": [
       "<div>\n",
       "<style scoped>\n",
       "    .dataframe tbody tr th:only-of-type {\n",
       "        vertical-align: middle;\n",
       "    }\n",
       "\n",
       "    .dataframe tbody tr th {\n",
       "        vertical-align: top;\n",
       "    }\n",
       "\n",
       "    .dataframe thead th {\n",
       "        text-align: right;\n",
       "    }\n",
       "</style>\n",
       "<table border=\"1\" class=\"dataframe\">\n",
       "  <thead>\n",
       "    <tr style=\"text-align: right;\">\n",
       "      <th></th>\n",
       "      <th>h3res13</th>\n",
       "      <th>building_id</th>\n",
       "      <th>building_function</th>\n",
       "      <th>building_floors</th>\n",
       "      <th>building_flats</th>\n",
       "      <th>building_area</th>\n",
       "    </tr>\n",
       "  </thead>\n",
       "  <tbody>\n",
       "    <tr>\n",
       "      <th>0</th>\n",
       "      <td>8d1f53cd3299dbf</td>\n",
       "      <td>3303EA7E-6861-33C1-E053-CA2BA8C02B7D</td>\n",
       "      <td>Agricultural Building</td>\n",
       "      <td>1.0</td>\n",
       "      <td>0</td>\n",
       "      <td>245.66</td>\n",
       "    </tr>\n",
       "    <tr>\n",
       "      <th>1</th>\n",
       "      <td>8d1f53cd3299d3f</td>\n",
       "      <td>3303EA7E-6861-33C1-E053-CA2BA8C02B7D</td>\n",
       "      <td>Agricultural Building</td>\n",
       "      <td>1.0</td>\n",
       "      <td>0</td>\n",
       "      <td>245.66</td>\n",
       "    </tr>\n",
       "    <tr>\n",
       "      <th>2</th>\n",
       "      <td>8d1f53cd3299cbf</td>\n",
       "      <td>3303EA7E-6861-33C1-E053-CA2BA8C02B7D</td>\n",
       "      <td>Agricultural Building</td>\n",
       "      <td>1.0</td>\n",
       "      <td>0</td>\n",
       "      <td>245.66</td>\n",
       "    </tr>\n",
       "    <tr>\n",
       "      <th>3</th>\n",
       "      <td>8d1f53cd329d6ff</td>\n",
       "      <td>3303EA7E-6861-33C1-E053-CA2BA8C02B7D</td>\n",
       "      <td>Agricultural Building</td>\n",
       "      <td>1.0</td>\n",
       "      <td>0</td>\n",
       "      <td>245.66</td>\n",
       "    </tr>\n",
       "    <tr>\n",
       "      <th>4</th>\n",
       "      <td>8d1f53cd329837f</td>\n",
       "      <td>3303EA7E-6861-33C1-E053-CA2BA8C02B7D</td>\n",
       "      <td>Agricultural Building</td>\n",
       "      <td>1.0</td>\n",
       "      <td>0</td>\n",
       "      <td>245.66</td>\n",
       "    </tr>\n",
       "  </tbody>\n",
       "</table>\n",
       "</div>"
      ],
      "text/plain": [
       "           h3res13                           building_id  \\\n",
       "0  8d1f53cd3299dbf  3303EA7E-6861-33C1-E053-CA2BA8C02B7D   \n",
       "1  8d1f53cd3299d3f  3303EA7E-6861-33C1-E053-CA2BA8C02B7D   \n",
       "2  8d1f53cd3299cbf  3303EA7E-6861-33C1-E053-CA2BA8C02B7D   \n",
       "3  8d1f53cd329d6ff  3303EA7E-6861-33C1-E053-CA2BA8C02B7D   \n",
       "4  8d1f53cd329837f  3303EA7E-6861-33C1-E053-CA2BA8C02B7D   \n",
       "\n",
       "       building_function  building_floors  building_flats  building_area  \n",
       "0  Agricultural Building              1.0               0         245.66  \n",
       "1  Agricultural Building              1.0               0         245.66  \n",
       "2  Agricultural Building              1.0               0         245.66  \n",
       "3  Agricultural Building              1.0               0         245.66  \n",
       "4  Agricultural Building              1.0               0         245.66  "
      ]
     },
     "execution_count": 14,
     "metadata": {},
     "output_type": "execute_result"
    }
   ],
   "source": [
    "df_buildings.head()"
   ]
  },
  {
   "cell_type": "code",
   "execution_count": 20,
   "metadata": {},
   "outputs": [
    {
     "data": {
      "text/plain": [
       "building_function\n",
       "Single-Family Residence           418099\n",
       "Multi-Family Residence            371381\n",
       "Office Building                   115619\n",
       "Retail and Service Building        97803\n",
       "Agricultural Building              97422\n",
       "Silo or Warehouse                  87941\n",
       "Industrial Building                62074\n",
       "Schools and Research Institute     54779\n",
       "Car Park                           36810\n",
       "Hotel                              18213\n",
       "Apartment                          18062\n",
       "Hospitals and Medical Facility     15025\n",
       "Collected Dwelling Unit            13269\n",
       "Railway and Terminal Building       7619\n",
       "Cultural Facility                   6065\n",
       "Place of Worship                    5624\n",
       "Cultural Public Facility            5395\n",
       "Museums and Libraries               5082\n",
       "Non-Residential Building            4016\n",
       "Heritage Building                    316\n",
       "Tourist Accommodation Building       256\n",
       "Name: count, dtype: int64"
      ]
     },
     "execution_count": 20,
     "metadata": {},
     "output_type": "execute_result"
    }
   ],
   "source": [
    "df_buildings['building_function'].value_counts().sort_values(ascending=False)"
   ]
  },
  {
   "cell_type": "markdown",
   "metadata": {},
   "source": [
    "# Demography"
   ]
  },
  {
   "cell_type": "code",
   "execution_count": 21,
   "metadata": {},
   "outputs": [
    {
     "name": "stdout",
     "output_type": "stream",
     "text": [
      "(109678, 8)\n"
     ]
    }
   ],
   "source": [
    "df_dem = pd.read_parquet(DATA_PATH / 'demography.parquet')\n",
    "print(df_dem.shape)"
   ]
  },
  {
   "cell_type": "code",
   "execution_count": 22,
   "metadata": {},
   "outputs": [
    {
     "data": {
      "text/html": [
       "<div>\n",
       "<style scoped>\n",
       "    .dataframe tbody tr th:only-of-type {\n",
       "        vertical-align: middle;\n",
       "    }\n",
       "\n",
       "    .dataframe tbody tr th {\n",
       "        vertical-align: top;\n",
       "    }\n",
       "\n",
       "    .dataframe thead th {\n",
       "        text-align: right;\n",
       "    }\n",
       "</style>\n",
       "<table border=\"1\" class=\"dataframe\">\n",
       "  <thead>\n",
       "    <tr style=\"text-align: right;\">\n",
       "      <th></th>\n",
       "      <th>h3res13</th>\n",
       "      <th>total</th>\n",
       "      <th>female0018</th>\n",
       "      <th>female1964</th>\n",
       "      <th>female6599</th>\n",
       "      <th>male0018</th>\n",
       "      <th>male1964</th>\n",
       "      <th>male6599</th>\n",
       "    </tr>\n",
       "  </thead>\n",
       "  <tbody>\n",
       "    <tr>\n",
       "      <th>0</th>\n",
       "      <td>8d1f5224000837f</td>\n",
       "      <td>6.0</td>\n",
       "      <td>1.0</td>\n",
       "      <td>3.0</td>\n",
       "      <td>1.0</td>\n",
       "      <td>0.0</td>\n",
       "      <td>1.0</td>\n",
       "      <td>0.0</td>\n",
       "    </tr>\n",
       "    <tr>\n",
       "      <th>1</th>\n",
       "      <td>8d1f522400084bf</td>\n",
       "      <td>1.0</td>\n",
       "      <td>0.0</td>\n",
       "      <td>0.0</td>\n",
       "      <td>0.0</td>\n",
       "      <td>0.0</td>\n",
       "      <td>0.0</td>\n",
       "      <td>1.0</td>\n",
       "    </tr>\n",
       "    <tr>\n",
       "      <th>2</th>\n",
       "      <td>8d1f522400088ff</td>\n",
       "      <td>6.0</td>\n",
       "      <td>1.0</td>\n",
       "      <td>2.0</td>\n",
       "      <td>0.0</td>\n",
       "      <td>1.0</td>\n",
       "      <td>1.0</td>\n",
       "      <td>1.0</td>\n",
       "    </tr>\n",
       "    <tr>\n",
       "      <th>3</th>\n",
       "      <td>8d1f5224000943f</td>\n",
       "      <td>4.0</td>\n",
       "      <td>0.0</td>\n",
       "      <td>1.0</td>\n",
       "      <td>1.0</td>\n",
       "      <td>0.0</td>\n",
       "      <td>2.0</td>\n",
       "      <td>0.0</td>\n",
       "    </tr>\n",
       "    <tr>\n",
       "      <th>4</th>\n",
       "      <td>8d1f5224000a6ff</td>\n",
       "      <td>4.0</td>\n",
       "      <td>0.0</td>\n",
       "      <td>1.0</td>\n",
       "      <td>0.0</td>\n",
       "      <td>0.0</td>\n",
       "      <td>2.0</td>\n",
       "      <td>1.0</td>\n",
       "    </tr>\n",
       "    <tr>\n",
       "      <th>...</th>\n",
       "      <td>...</td>\n",
       "      <td>...</td>\n",
       "      <td>...</td>\n",
       "      <td>...</td>\n",
       "      <td>...</td>\n",
       "      <td>...</td>\n",
       "      <td>...</td>\n",
       "      <td>...</td>\n",
       "    </tr>\n",
       "    <tr>\n",
       "      <th>109673</th>\n",
       "      <td>8d1f53d9eda12ff</td>\n",
       "      <td>4.0</td>\n",
       "      <td>1.0</td>\n",
       "      <td>2.0</td>\n",
       "      <td>0.0</td>\n",
       "      <td>1.0</td>\n",
       "      <td>0.0</td>\n",
       "      <td>0.0</td>\n",
       "    </tr>\n",
       "    <tr>\n",
       "      <th>109674</th>\n",
       "      <td>8d1f53d9eda987f</td>\n",
       "      <td>0.0</td>\n",
       "      <td>0.0</td>\n",
       "      <td>0.0</td>\n",
       "      <td>0.0</td>\n",
       "      <td>0.0</td>\n",
       "      <td>0.0</td>\n",
       "      <td>0.0</td>\n",
       "    </tr>\n",
       "    <tr>\n",
       "      <th>109675</th>\n",
       "      <td>8d1f53d9edab47f</td>\n",
       "      <td>6.0</td>\n",
       "      <td>0.0</td>\n",
       "      <td>4.0</td>\n",
       "      <td>0.0</td>\n",
       "      <td>0.0</td>\n",
       "      <td>2.0</td>\n",
       "      <td>0.0</td>\n",
       "    </tr>\n",
       "    <tr>\n",
       "      <th>109676</th>\n",
       "      <td>8d1f53d9edadb7f</td>\n",
       "      <td>4.0</td>\n",
       "      <td>2.0</td>\n",
       "      <td>2.0</td>\n",
       "      <td>0.0</td>\n",
       "      <td>0.0</td>\n",
       "      <td>0.0</td>\n",
       "      <td>0.0</td>\n",
       "    </tr>\n",
       "    <tr>\n",
       "      <th>109677</th>\n",
       "      <td>8d1f53d9edaec3f</td>\n",
       "      <td>4.0</td>\n",
       "      <td>1.0</td>\n",
       "      <td>1.0</td>\n",
       "      <td>0.0</td>\n",
       "      <td>0.0</td>\n",
       "      <td>2.0</td>\n",
       "      <td>0.0</td>\n",
       "    </tr>\n",
       "  </tbody>\n",
       "</table>\n",
       "<p>109678 rows × 8 columns</p>\n",
       "</div>"
      ],
      "text/plain": [
       "                h3res13  total  female0018  female1964  female6599  male0018  \\\n",
       "0       8d1f5224000837f    6.0         1.0         3.0         1.0       0.0   \n",
       "1       8d1f522400084bf    1.0         0.0         0.0         0.0       0.0   \n",
       "2       8d1f522400088ff    6.0         1.0         2.0         0.0       1.0   \n",
       "3       8d1f5224000943f    4.0         0.0         1.0         1.0       0.0   \n",
       "4       8d1f5224000a6ff    4.0         0.0         1.0         0.0       0.0   \n",
       "...                 ...    ...         ...         ...         ...       ...   \n",
       "109673  8d1f53d9eda12ff    4.0         1.0         2.0         0.0       1.0   \n",
       "109674  8d1f53d9eda987f    0.0         0.0         0.0         0.0       0.0   \n",
       "109675  8d1f53d9edab47f    6.0         0.0         4.0         0.0       0.0   \n",
       "109676  8d1f53d9edadb7f    4.0         2.0         2.0         0.0       0.0   \n",
       "109677  8d1f53d9edaec3f    4.0         1.0         1.0         0.0       0.0   \n",
       "\n",
       "        male1964  male6599  \n",
       "0            1.0       0.0  \n",
       "1            0.0       1.0  \n",
       "2            1.0       1.0  \n",
       "3            2.0       0.0  \n",
       "4            2.0       1.0  \n",
       "...          ...       ...  \n",
       "109673       0.0       0.0  \n",
       "109674       0.0       0.0  \n",
       "109675       2.0       0.0  \n",
       "109676       0.0       0.0  \n",
       "109677       2.0       0.0  \n",
       "\n",
       "[109678 rows x 8 columns]"
      ]
     },
     "execution_count": 22,
     "metadata": {},
     "output_type": "execute_result"
    }
   ],
   "source": [
    "df_dem"
   ]
  },
  {
   "cell_type": "markdown",
   "metadata": {},
   "source": [
    "# "
   ]
  }
 ],
 "metadata": {
  "kernelspec": {
   "display_name": "wec25",
   "language": "python",
   "name": "python3"
  },
  "language_info": {
   "codemirror_mode": {
    "name": "ipython",
    "version": 3
   },
   "file_extension": ".py",
   "mimetype": "text/x-python",
   "name": "python",
   "nbconvert_exporter": "python",
   "pygments_lexer": "ipython3",
   "version": "3.12.9"
  }
 },
 "nbformat": 4,
 "nbformat_minor": 2
}
