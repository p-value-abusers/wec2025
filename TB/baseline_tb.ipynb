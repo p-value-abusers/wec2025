{
 "cells": [
  {
   "cell_type": "code",
   "execution_count": 1,
   "metadata": {},
   "outputs": [
    {
     "name": "stdout",
     "output_type": "stream",
     "text": [
      "/Users/tymoteuszbarcinski/DTU/WEC2025/wec2025/TB\n",
      "ROOT_PATH=PosixPath('/Users/tymoteuszbarcinski/DTU/WEC2025/wec2025')\n",
      "DATA_RAW_PATH=PosixPath('/Users/tymoteuszbarcinski/DTU/WEC2025/wec2025/for_participants/data_parquet')\n",
      "DATA_PROCESSED_PATH=PosixPath('/Users/tymoteuszbarcinski/DTU/WEC2025/wec2025/for_participants/preprocessed_data')\n"
     ]
    }
   ],
   "source": [
    "import pandas as pd\n",
    "import xgboost as xgb\n",
    "from sklearn.model_selection import train_test_split\n",
    "import numpy as np\n",
    "import matplotlib.pyplot as plt\n",
    "import seaborn as sns\n",
    "import os\n",
    "import statsmodels.api as sm\n",
    "import h3\n",
    "from tqdm import tqdm\n",
    "\n",
    "print(os.getcwd())\n",
    "\n",
    "import sys\n",
    "from pathlib import Path\n",
    "\n",
    "Path().resolve().parent\n",
    "\n",
    "# Add utils to path\n",
    "ROOT_PATH = Path().resolve().parent\n",
    "print(f\"{ROOT_PATH=}\")\n",
    "DATA_RAW_PATH = ROOT_PATH / \"for_participants\" / \"data_parquet\"\n",
    "DATA_PROCESSED_PATH = ROOT_PATH / \"for_participants\" / \"preprocessed_data\"\n",
    "# assert DATA_PATH.exists()\n",
    "sys.path.append(str(ROOT_PATH))\n",
    "print(f\"{DATA_RAW_PATH=}\")\n",
    "print(f\"{DATA_PROCESSED_PATH=}\")\n",
    "\n",
    "# ASSIGNMENT_DIR = Path().resolve().parent\n",
    "# HANDIN_DIR = ASSIGNMENT_DIR / 'handin'\n",
    "OUTPUT_DIR = ROOT_PATH / 'output'\n",
    "\n",
    "def read_data(file_name, path = DATA_RAW_PATH):\n",
    "    df_tmp = pd.read_parquet(path / f'{file_name}.parquet')\n",
    "    print(df_tmp.shape)\n",
    "    return df_tmp\n",
    "\n",
    "\n",
    "import warnings\n",
    "warnings.filterwarnings('ignore')\n",
    "\n",
    "def distance_matrix_noloop(p1, p2):\n",
    "    p1, p2 = np.radians(p1), np.radians(p2)\n",
    "\n",
    "    D = np.empty((len(p1), len(p2)))\n",
    "\n",
    "    p1_v2 = p1[:, None, :]\n",
    "    p2_v2 = p2[None, :, :]\n",
    "\n",
    "    cos_p1_v2 = np.cos(p1_v2)[:, :, 0]\n",
    "    cos_p2_v2 = np.cos(p2_v2)[:, :, 0]\n",
    "\n",
    "    dsin2_full = np.sin(0.5 * (p1_v2 - p2_v2)) ** 2\n",
    "    cosprod_full = cos_p1_v2 * cos_p2_v2\n",
    "    a = dsin2_full[:, :, 0] + cosprod_full * dsin2_full[:, :, 1]\n",
    "    D = 2 * np.arcsin(np.sqrt(a))\n",
    "\n",
    "    D *= 6371  # Earth radius in km\n",
    "    return D"
   ]
  },
  {
   "cell_type": "markdown",
   "metadata": {},
   "source": [
    "# Data"
   ]
  },
  {
   "cell_type": "code",
   "execution_count": null,
   "metadata": {},
   "outputs": [
    {
     "name": "stdout",
     "output_type": "stream",
     "text": [
      "(102480, 9)\n",
      "(24072552, 53)\n",
      "(394632,)\n",
      "(70,)\n"
     ]
    }
   ],
   "source": [
    "# df = pd.read_parquet(DATA_PROCESSED_PATH / \"prepared_model_train_data.parquet\")\n",
    "\n",
    "df_traffic = read_data(\"traffic_train\")\n",
    "df_signals = read_data(\"signals\")\n",
    "\n",
    "df_signals['signal_date'] = pd.to_datetime(df_signals['signal_date'])\n",
    "df_signals = df_signals.sort_values(by = ['signal_date', 'h3res13']).reset_index(drop = True)\n",
    "\n",
    "df_traffic = df_traffic.sort_values(by = ['date', 'h3res13', 'hour'])\n",
    "\n",
    "h3_signals = np.sort(df_signals['h3res13'].unique())\n",
    "print(h3_signals.shape)\n",
    "\n",
    "h3_traffic = np.sort(df_traffic['h3res13'].unique())\n",
    "print(h3_traffic.shape)\n",
    "\n",
    "result = np.isin(h3_traffic, h3_signals)"
   ]
  },
  {
   "cell_type": "code",
   "execution_count": 3,
   "metadata": {},
   "outputs": [
    {
     "name": "stdout",
     "output_type": "stream",
     "text": [
      "(70, 2)\n",
      "(394632, 2)\n",
      "(70, 1, 2)\n",
      "(1, 394632, 2)\n",
      "(70, 394632, 2)\n",
      "\n",
      "(70, 394632)\n",
      "(70, 394632)\n"
     ]
    }
   ],
   "source": [
    "df_lon_lat_traffic = df_traffic.drop_duplicates(subset=['h3res13'])[['lat', 'lon']].values\n",
    "df_lon_lat_signals = np.array([h3.cell_to_latlng(hex) for hex in h3_signals])\n",
    "\n",
    "df_diff_hd = distance_matrix_noloop(df_lon_lat_traffic, df_lon_lat_signals)\n",
    "\n",
    "print(df_lon_lat_traffic.shape)\n",
    "print(df_lon_lat_signals.shape)\n",
    "\n",
    "df_lon_lat_traffic = df_lon_lat_traffic[:, None, :]\n",
    "df_lon_lat_signals = df_lon_lat_signals[None, :, :]\n",
    "\n",
    "print(df_lon_lat_traffic.shape)\n",
    "print(df_lon_lat_signals.shape)\n",
    "\n",
    "df_diff = df_lon_lat_traffic - df_lon_lat_signals\n",
    "print(df_diff.shape)\n",
    "print()\n",
    "\n",
    "df_l2 = df_diff[:, :, 0]**2 + df_diff[:, :, 1]**2\n",
    "print(df_diff_hd.shape)\n",
    "print(df_l2.shape)"
   ]
  },
  {
   "cell_type": "code",
   "execution_count": 6,
   "metadata": {},
   "outputs": [],
   "source": [
    "# closest_points_indices = np.argsort(df_l2, axis=1)[:, :5]\n",
    "# closest_points_distances = np.sort(df_l2, axis=1)[:, :5]\n",
    "\n",
    "# closest_signal = df_l2.argmin(axis=1)\n",
    "\n",
    "# h3_traffic_closest = np.vstack((h3_traffic, h3_signals[closest_signal])).T\n",
    "# h3_traffic_closest = pd.DataFrame(h3_traffic_closest, columns = [\"h3_traffic\", \"h3_closest\"])\n",
    "\n",
    "# cnt_columns = [col for col in df_signals.columns if 'ctn' in col]\n",
    "\n",
    "# df_traffic = df_traffic\\\n",
    "#     .join(h3_traffic_closest.set_index(\"h3_traffic\"), on = \"h3res13\", how = \"left\")\n",
    "#     # .join(df_signals[['h3res13'] + cnt_columns], on = \"h3_closest\", how = \"left\")\n",
    "\n",
    "# df_signals_subset = df_signals.loc[lambda x: x['h3res13'].isin(h3_traffic_closest['h3_closest'])]\n",
    "\n",
    "# ctd_columns = [col for col in df_signals_subset.columns if 'ctd' in col]\n",
    "\n",
    "# df_signals_subset_long = pd.wide_to_long(\n",
    "#     df_signals_subset.drop(columns=ctd_columns),\n",
    "#     stubnames='ctn',  # Prefix of the columns to pivot\n",
    "#     i=['h3res13', 'signal_date', 'weekday', 'ctn_per_day'],  # Identifier columns\n",
    "#     j='hour',  # New column for the variable part (e.g., 0, 1, ..., 23)\n",
    "#     sep='_',  # Separator between the stubname and the variable part\n",
    "#     suffix='\\d+'  # Regex to match the variable part (e.g., digits like 0, 1, ..., 23)\n",
    "# ).reset_index()\n",
    "\n",
    "# df_traffic = df_traffic.rename(columns = {'h3_closest': 'h3_to_join'})\n",
    "# df_signals_subset_long = df_signals_subset_long.rename(\n",
    "#     columns = {'h3res13': 'h3_to_join', 'signal_date': 'date'}\n",
    "#     )\n",
    "\n",
    "# df_traffic = df_traffic.set_index(['h3_to_join', 'date', 'hour']).join(\n",
    "#     df_signals_subset_long.set_index(['h3_to_join', 'date', 'hour'])\n",
    "# )"
   ]
  },
  {
   "cell_type": "code",
   "execution_count": 10,
   "metadata": {},
   "outputs": [],
   "source": [
    "# del df_traffic\n",
    "# del df_signals\n",
    "# del df"
   ]
  },
  {
   "cell_type": "code",
   "execution_count": 4,
   "metadata": {},
   "outputs": [],
   "source": [
    "# df = df_traffic.reset_index()\n",
    "\n",
    "# df['n_date'] = pd.factorize(df['date'])[0]\n",
    "# df['date'] = pd.to_datetime(df['date'])\n",
    "\n",
    "# date_checking = \"2024-03-23\"\n",
    "# hour_checking = 9\n",
    "# # df2 = df.loc[lambda x: x['date'] == date_checking]\n",
    "# df2 = df.loc[lambda x: x['hour'] == hour_checking]"
   ]
  },
  {
   "cell_type": "markdown",
   "metadata": {},
   "source": [
    "# EDA"
   ]
  },
  {
   "cell_type": "code",
   "execution_count": 14,
   "metadata": {},
   "outputs": [],
   "source": [
    "# sns.heatmap(np.linalg.inv(df2[cnt_columns].corr()))"
   ]
  },
  {
   "cell_type": "markdown",
   "metadata": {},
   "source": [
    "# Feature Engenering"
   ]
  },
  {
   "cell_type": "code",
   "execution_count": 5,
   "metadata": {},
   "outputs": [],
   "source": [
    "date_checking = \"2024-03-23\"\n",
    "hour_checking = 9\n",
    "\n",
    "df_signals_tmp = df_signals.loc[lambda x: x['signal_date'] == date_checking]\n",
    "# df_signals_tmp = df_signals_tmp.loc[lambda x: x['hour'] == hour_checking]"
   ]
  },
  {
   "cell_type": "code",
   "execution_count": 28,
   "metadata": {},
   "outputs": [],
   "source": [
    "df_signals_long = pd.wide_to_long(\n",
    "    df_signals_tmp,\n",
    "    stubnames=['ctn', 'ctd'],  # Prefix of the columns to pivot\n",
    "    i=['h3res13', 'signal_date', 'weekday', 'ctn_per_day', 'ctd_per_day'],  # Identifier columns\n",
    "    j='hour',  # New column for the variable part (e.g., 0, 1, ..., 23)\n",
    "    sep='_',  # Separator between the stubname and the variable part\n",
    "    suffix='\\d+'  # Regex to match the variable part (e.g., digits like 0, 1, ..., 23)\n",
    ").reset_index()"
   ]
  },
  {
   "cell_type": "code",
   "execution_count": 36,
   "metadata": {},
   "outputs": [],
   "source": [
    "df_signals_long_hour = df_signals_long.loc[lambda x: x['hour'] == 0]"
   ]
  },
  {
   "cell_type": "code",
   "execution_count": 21,
   "metadata": {},
   "outputs": [
    {
     "data": {
      "text/html": [
       "<div>\n",
       "<style scoped>\n",
       "    .dataframe tbody tr th:only-of-type {\n",
       "        vertical-align: middle;\n",
       "    }\n",
       "\n",
       "    .dataframe tbody tr th {\n",
       "        vertical-align: top;\n",
       "    }\n",
       "\n",
       "    .dataframe thead th {\n",
       "        text-align: right;\n",
       "    }\n",
       "</style>\n",
       "<table border=\"1\" class=\"dataframe\">\n",
       "  <thead>\n",
       "    <tr style=\"text-align: right;\">\n",
       "      <th></th>\n",
       "      <th>h3res13</th>\n",
       "      <th>signal_date</th>\n",
       "      <th>weekday</th>\n",
       "      <th>ctn_per_day</th>\n",
       "      <th>ctd_per_day</th>\n",
       "      <th>ctn_0</th>\n",
       "      <th>ctn_1</th>\n",
       "      <th>ctn_2</th>\n",
       "      <th>ctn_3</th>\n",
       "      <th>ctn_4</th>\n",
       "      <th>...</th>\n",
       "      <th>ctd_14</th>\n",
       "      <th>ctd_15</th>\n",
       "      <th>ctd_16</th>\n",
       "      <th>ctd_17</th>\n",
       "      <th>ctd_18</th>\n",
       "      <th>ctd_19</th>\n",
       "      <th>ctd_20</th>\n",
       "      <th>ctd_21</th>\n",
       "      <th>ctd_22</th>\n",
       "      <th>ctd_23</th>\n",
       "    </tr>\n",
       "  </thead>\n",
       "  <tbody>\n",
       "    <tr>\n",
       "      <th>0</th>\n",
       "      <td>8d1f52240a6107f</td>\n",
       "      <td>2024-03-01</td>\n",
       "      <td>5</td>\n",
       "      <td>0</td>\n",
       "      <td>0</td>\n",
       "      <td>0</td>\n",
       "      <td>0</td>\n",
       "      <td>0</td>\n",
       "      <td>0</td>\n",
       "      <td>0</td>\n",
       "      <td>...</td>\n",
       "      <td>0</td>\n",
       "      <td>0</td>\n",
       "      <td>0</td>\n",
       "      <td>0</td>\n",
       "      <td>0</td>\n",
       "      <td>0</td>\n",
       "      <td>0</td>\n",
       "      <td>0</td>\n",
       "      <td>0</td>\n",
       "      <td>0</td>\n",
       "    </tr>\n",
       "    <tr>\n",
       "      <th>1</th>\n",
       "      <td>8d1f52240a6113f</td>\n",
       "      <td>2024-03-01</td>\n",
       "      <td>5</td>\n",
       "      <td>0</td>\n",
       "      <td>0</td>\n",
       "      <td>0</td>\n",
       "      <td>0</td>\n",
       "      <td>0</td>\n",
       "      <td>0</td>\n",
       "      <td>0</td>\n",
       "      <td>...</td>\n",
       "      <td>0</td>\n",
       "      <td>0</td>\n",
       "      <td>0</td>\n",
       "      <td>0</td>\n",
       "      <td>0</td>\n",
       "      <td>0</td>\n",
       "      <td>0</td>\n",
       "      <td>0</td>\n",
       "      <td>0</td>\n",
       "      <td>0</td>\n",
       "    </tr>\n",
       "    <tr>\n",
       "      <th>2</th>\n",
       "      <td>8d1f52240a6117f</td>\n",
       "      <td>2024-03-01</td>\n",
       "      <td>5</td>\n",
       "      <td>0</td>\n",
       "      <td>0</td>\n",
       "      <td>0</td>\n",
       "      <td>0</td>\n",
       "      <td>0</td>\n",
       "      <td>0</td>\n",
       "      <td>0</td>\n",
       "      <td>...</td>\n",
       "      <td>0</td>\n",
       "      <td>0</td>\n",
       "      <td>0</td>\n",
       "      <td>0</td>\n",
       "      <td>0</td>\n",
       "      <td>0</td>\n",
       "      <td>0</td>\n",
       "      <td>0</td>\n",
       "      <td>0</td>\n",
       "      <td>0</td>\n",
       "    </tr>\n",
       "    <tr>\n",
       "      <th>3</th>\n",
       "      <td>8d1f52240a6123f</td>\n",
       "      <td>2024-03-01</td>\n",
       "      <td>5</td>\n",
       "      <td>0</td>\n",
       "      <td>0</td>\n",
       "      <td>0</td>\n",
       "      <td>0</td>\n",
       "      <td>0</td>\n",
       "      <td>0</td>\n",
       "      <td>0</td>\n",
       "      <td>...</td>\n",
       "      <td>0</td>\n",
       "      <td>0</td>\n",
       "      <td>0</td>\n",
       "      <td>0</td>\n",
       "      <td>0</td>\n",
       "      <td>0</td>\n",
       "      <td>0</td>\n",
       "      <td>0</td>\n",
       "      <td>0</td>\n",
       "      <td>0</td>\n",
       "    </tr>\n",
       "    <tr>\n",
       "      <th>4</th>\n",
       "      <td>8d1f52240a6127f</td>\n",
       "      <td>2024-03-01</td>\n",
       "      <td>5</td>\n",
       "      <td>0</td>\n",
       "      <td>0</td>\n",
       "      <td>0</td>\n",
       "      <td>0</td>\n",
       "      <td>0</td>\n",
       "      <td>0</td>\n",
       "      <td>0</td>\n",
       "      <td>...</td>\n",
       "      <td>0</td>\n",
       "      <td>0</td>\n",
       "      <td>0</td>\n",
       "      <td>0</td>\n",
       "      <td>0</td>\n",
       "      <td>0</td>\n",
       "      <td>0</td>\n",
       "      <td>0</td>\n",
       "      <td>0</td>\n",
       "      <td>0</td>\n",
       "    </tr>\n",
       "  </tbody>\n",
       "</table>\n",
       "<p>5 rows × 53 columns</p>\n",
       "</div>"
      ],
      "text/plain": [
       "           h3res13 signal_date  weekday  ctn_per_day  ctd_per_day  ctn_0  \\\n",
       "0  8d1f52240a6107f  2024-03-01        5            0            0      0   \n",
       "1  8d1f52240a6113f  2024-03-01        5            0            0      0   \n",
       "2  8d1f52240a6117f  2024-03-01        5            0            0      0   \n",
       "3  8d1f52240a6123f  2024-03-01        5            0            0      0   \n",
       "4  8d1f52240a6127f  2024-03-01        5            0            0      0   \n",
       "\n",
       "   ctn_1  ctn_2  ctn_3  ctn_4  ...  ctd_14  ctd_15  ctd_16  ctd_17  ctd_18  \\\n",
       "0      0      0      0      0  ...       0       0       0       0       0   \n",
       "1      0      0      0      0  ...       0       0       0       0       0   \n",
       "2      0      0      0      0  ...       0       0       0       0       0   \n",
       "3      0      0      0      0  ...       0       0       0       0       0   \n",
       "4      0      0      0      0  ...       0       0       0       0       0   \n",
       "\n",
       "   ctd_19  ctd_20  ctd_21  ctd_22  ctd_23  \n",
       "0       0       0       0       0       0  \n",
       "1       0       0       0       0       0  \n",
       "2       0       0       0       0       0  \n",
       "3       0       0       0       0       0  \n",
       "4       0       0       0       0       0  \n",
       "\n",
       "[5 rows x 53 columns]"
      ]
     },
     "execution_count": 21,
     "metadata": {},
     "output_type": "execute_result"
    }
   ],
   "source": [
    "cnt_columns = [col for col in df_signals.columns if 'ctn' in col][1:]\n",
    "df_signals.head()"
   ]
  },
  {
   "cell_type": "code",
   "execution_count": 6,
   "metadata": {},
   "outputs": [
    {
     "name": "stdout",
     "output_type": "stream",
     "text": [
      "n_dates=61\n",
      "n_stations_traffic=70\n",
      "n_hours=24\n"
     ]
    }
   ],
   "source": [
    "n_dates = df_signals['signal_date'].unique().shape[0]\n",
    "n_stations_traffic = df_traffic['h3res13'].unique().shape[0]\n",
    "n_hours = 24\n",
    "print(f\"{n_dates=}\")\n",
    "print(f\"{n_stations_traffic=}\")\n",
    "print(f\"{n_hours=}\")"
   ]
  },
  {
   "cell_type": "code",
   "execution_count": 45,
   "metadata": {},
   "outputs": [
    {
     "data": {
      "text/plain": [
       "array([394632, 394632, 394632, 394632, 394632, 394632, 394632, 394632,\n",
       "       394632, 394632, 394632, 394632, 394632, 394632, 394632, 394632,\n",
       "       394632, 394632, 394632, 394632, 394632, 394632, 394632, 394632,\n",
       "       394632, 394632, 394632, 394632, 394632, 394632, 394632, 394632,\n",
       "       394632, 394632, 394632, 394632, 394632, 394632, 394632, 394632,\n",
       "       394632, 394632, 394632, 394632, 394632, 394632, 394632, 394632,\n",
       "       394632, 394632, 394632, 394632, 394632, 394632, 394632, 394632,\n",
       "       394632, 394632, 394632, 394632, 394632, 394632, 394632, 394632,\n",
       "       394632, 394632, 394632, 394632, 394632, 394632])"
      ]
     },
     "execution_count": 45,
     "metadata": {},
     "output_type": "execute_result"
    }
   ],
   "source": [
    "def calculate_distance_matrix_km(X_input, distance_km):\n",
    "    X = X_input.copy()\n",
    "    X[X > distance_km] = 0\n",
    "    return X\n",
    "\n",
    "def calculate_distance_matrix_rho(X_input, rho):\n",
    "    return np.exp(-X_input / rho**2)\n",
    "\n",
    "# distance_km = 1\n",
    "# C_matrix = calculate_distance_matrix_km(X_input = df_diff_hd, distance_km = distance_km)\n",
    "\n",
    "rho = 0.95\n",
    "C_matrix = calculate_distance_matrix_rho(X_input = df_diff_hd, rho = rho)\n",
    "\n",
    "(C_matrix != 0).sum(axis=1)"
   ]
  },
  {
   "cell_type": "code",
   "execution_count": 46,
   "metadata": {},
   "outputs": [],
   "source": [
    "dates_unique = df_signals['signal_date'].sort_values().dt.date.unique()"
   ]
  },
  {
   "cell_type": "code",
   "execution_count": 48,
   "metadata": {},
   "outputs": [
    {
     "name": "stdout",
     "output_type": "stream",
     "text": [
      "Index(['signal_date', 'ctn_0', 'ctn_1', 'ctn_2', 'ctn_3', 'ctn_4', 'ctn_5',\n",
      "       'ctn_6', 'ctn_7', 'ctn_8', 'ctn_9', 'ctn_10', 'ctn_11', 'ctn_12',\n",
      "       'ctn_13', 'ctn_14', 'ctn_15', 'ctn_16', 'ctn_17', 'ctn_18', 'ctn_19',\n",
      "       'ctn_20', 'ctn_21', 'ctn_22', 'ctn_23'],\n",
      "      dtype='object')\n"
     ]
    }
   ],
   "source": [
    "cnt_columns = [col for col in df_signals.columns if 'ctn' in col][1:]\n",
    "df_signals_cnt = df_signals[['signal_date'] + cnt_columns]\n",
    "print(df_signals_cnt.columns)\n",
    "df_signals_cnt = df_signals_cnt.set_index('signal_date').sort_index()"
   ]
  },
  {
   "cell_type": "code",
   "execution_count": 49,
   "metadata": {},
   "outputs": [
    {
     "name": "stdout",
     "output_type": "stream",
     "text": [
      "(61, 70, 24)\n"
     ]
    },
    {
     "name": "stderr",
     "output_type": "stream",
     "text": [
      "100%|██████████| 61/61 [00:07<00:00,  7.86it/s]\n"
     ]
    }
   ],
   "source": [
    "X_result = np.zeros((n_dates, n_stations_traffic, n_hours))\n",
    "print(X_result.shape)\n",
    "\n",
    "for idx, date_tmp in enumerate(tqdm(dates_unique)):\n",
    "    df_signals_tmp = df_signals_cnt.loc[str(date_tmp)]\n",
    "    A = df_signals_tmp.values\n",
    "    B_station_hour = (C_matrix @ A)\n",
    "    X_result[idx, :, :] = B_station_hour"
   ]
  },
  {
   "cell_type": "code",
   "execution_count": 50,
   "metadata": {},
   "outputs": [],
   "source": [
    "df_traffic[f'signal_rho_{int(rho*100)}'] = X_result.reshape(-1)\n",
    "# df_traffic[f'signal_km_{distance_km}'] = X_result.reshape(-1)"
   ]
  },
  {
   "cell_type": "code",
   "execution_count": null,
   "metadata": {},
   "outputs": [],
   "source": [
    "# X_feature = calculate_distance_rho(rho = 0.9, df_diff_hd = df_diff_hd,\n",
    "#                                    x = df_signals_long_hour['ctn'].values)"
   ]
  },
  {
   "cell_type": "code",
   "execution_count": 64,
   "metadata": {},
   "outputs": [],
   "source": [
    "df_traffic.to_csv(DATA_PROCESSED_PATH / \"df_modelling.csv\")"
   ]
  },
  {
   "cell_type": "markdown",
   "metadata": {},
   "source": [
    "# Baseline"
   ]
  },
  {
   "cell_type": "code",
   "execution_count": 55,
   "metadata": {},
   "outputs": [],
   "source": [
    "df2 = df_traffic.copy()\n",
    "\n",
    "cnt_columns = [col for col in df2.columns if 'cnt' in col]\n",
    "df2['intercept'] = 1\n",
    "\n",
    "x_columns = [f'signal_rho_{int(rho*100)}'] + ['intercept']\n",
    "# x_columns = ['signal_km_1'] + ['intercept']\n",
    "y_column = \"traffic\"\n",
    "\n",
    "X_train = df2[x_columns]\n",
    "Y_train = df2[y_column]"
   ]
  },
  {
   "cell_type": "code",
   "execution_count": 59,
   "metadata": {},
   "outputs": [
    {
     "data": {
      "text/html": [
       "<table class=\"simpletable\">\n",
       "<caption>OLS Regression Results</caption>\n",
       "<tr>\n",
       "  <th>Dep. Variable:</th>         <td>traffic</td>     <th>  R-squared:         </th>  <td>   0.075</td>  \n",
       "</tr>\n",
       "<tr>\n",
       "  <th>Model:</th>                   <td>OLS</td>       <th>  Adj. R-squared:    </th>  <td>   0.075</td>  \n",
       "</tr>\n",
       "<tr>\n",
       "  <th>Method:</th>             <td>Least Squares</td>  <th>  F-statistic:       </th>  <td>   8349.</td>  \n",
       "</tr>\n",
       "<tr>\n",
       "  <th>Date:</th>             <td>Sat, 12 Apr 2025</td> <th>  Prob (F-statistic):</th>   <td>  0.00</td>   \n",
       "</tr>\n",
       "<tr>\n",
       "  <th>Time:</th>                 <td>19:45:08</td>     <th>  Log-Likelihood:    </th> <td>-8.9643e+05</td>\n",
       "</tr>\n",
       "<tr>\n",
       "  <th>No. Observations:</th>      <td>102480</td>      <th>  AIC:               </th>  <td>1.793e+06</td> \n",
       "</tr>\n",
       "<tr>\n",
       "  <th>Df Residuals:</th>          <td>102478</td>      <th>  BIC:               </th>  <td>1.793e+06</td> \n",
       "</tr>\n",
       "<tr>\n",
       "  <th>Df Model:</th>              <td>     1</td>      <th>                     </th>      <td> </td>     \n",
       "</tr>\n",
       "<tr>\n",
       "  <th>Covariance Type:</th>      <td>nonrobust</td>    <th>                     </th>      <td> </td>     \n",
       "</tr>\n",
       "</table>\n",
       "<table class=\"simpletable\">\n",
       "<tr>\n",
       "        <td></td>           <th>coef</th>     <th>std err</th>      <th>t</th>      <th>P>|t|</th>  <th>[0.025</th>    <th>0.975]</th>  \n",
       "</tr>\n",
       "<tr>\n",
       "  <th>signal_rho_95</th> <td>    0.8518</td> <td>    0.009</td> <td>   91.372</td> <td> 0.000</td> <td>    0.834</td> <td>    0.870</td>\n",
       "</tr>\n",
       "<tr>\n",
       "  <th>intercept</th>     <td> 1043.1811</td> <td>    7.049</td> <td>  147.980</td> <td> 0.000</td> <td> 1029.364</td> <td> 1056.998</td>\n",
       "</tr>\n",
       "</table>\n",
       "<table class=\"simpletable\">\n",
       "<tr>\n",
       "  <th>Omnibus:</th>       <td>29157.694</td> <th>  Durbin-Watson:     </th> <td>   0.077</td> \n",
       "</tr>\n",
       "<tr>\n",
       "  <th>Prob(Omnibus):</th>  <td> 0.000</td>   <th>  Jarque-Bera (JB):  </th> <td>72385.580</td>\n",
       "</tr>\n",
       "<tr>\n",
       "  <th>Skew:</th>           <td> 1.581</td>   <th>  Prob(JB):          </th> <td>    0.00</td> \n",
       "</tr>\n",
       "<tr>\n",
       "  <th>Kurtosis:</th>       <td> 5.636</td>   <th>  Cond. No.          </th> <td>1.12e+03</td> \n",
       "</tr>\n",
       "</table><br/><br/>Notes:<br/>[1] Standard Errors assume that the covariance matrix of the errors is correctly specified.<br/>[2] The condition number is large, 1.12e+03. This might indicate that there are<br/>strong multicollinearity or other numerical problems."
      ],
      "text/latex": [
       "\\begin{center}\n",
       "\\begin{tabular}{lclc}\n",
       "\\toprule\n",
       "\\textbf{Dep. Variable:}    &     traffic      & \\textbf{  R-squared:         } &      0.075   \\\\\n",
       "\\textbf{Model:}            &       OLS        & \\textbf{  Adj. R-squared:    } &      0.075   \\\\\n",
       "\\textbf{Method:}           &  Least Squares   & \\textbf{  F-statistic:       } &      8349.   \\\\\n",
       "\\textbf{Date:}             & Sat, 12 Apr 2025 & \\textbf{  Prob (F-statistic):} &      0.00    \\\\\n",
       "\\textbf{Time:}             &     19:45:08     & \\textbf{  Log-Likelihood:    } & -8.9643e+05  \\\\\n",
       "\\textbf{No. Observations:} &      102480      & \\textbf{  AIC:               } &  1.793e+06   \\\\\n",
       "\\textbf{Df Residuals:}     &      102478      & \\textbf{  BIC:               } &  1.793e+06   \\\\\n",
       "\\textbf{Df Model:}         &           1      & \\textbf{                     } &              \\\\\n",
       "\\textbf{Covariance Type:}  &    nonrobust     & \\textbf{                     } &              \\\\\n",
       "\\bottomrule\n",
       "\\end{tabular}\n",
       "\\begin{tabular}{lcccccc}\n",
       "                         & \\textbf{coef} & \\textbf{std err} & \\textbf{t} & \\textbf{P$> |$t$|$} & \\textbf{[0.025} & \\textbf{0.975]}  \\\\\n",
       "\\midrule\n",
       "\\textbf{signal\\_rho\\_95} &       0.8518  &        0.009     &    91.372  &         0.000        &        0.834    &        0.870     \\\\\n",
       "\\textbf{intercept}       &    1043.1811  &        7.049     &   147.980  &         0.000        &     1029.364    &     1056.998     \\\\\n",
       "\\bottomrule\n",
       "\\end{tabular}\n",
       "\\begin{tabular}{lclc}\n",
       "\\textbf{Omnibus:}       & 29157.694 & \\textbf{  Durbin-Watson:     } &     0.077  \\\\\n",
       "\\textbf{Prob(Omnibus):} &    0.000  & \\textbf{  Jarque-Bera (JB):  } & 72385.580  \\\\\n",
       "\\textbf{Skew:}          &    1.581  & \\textbf{  Prob(JB):          } &      0.00  \\\\\n",
       "\\textbf{Kurtosis:}      &    5.636  & \\textbf{  Cond. No.          } &  1.12e+03  \\\\\n",
       "\\bottomrule\n",
       "\\end{tabular}\n",
       "%\\caption{OLS Regression Results}\n",
       "\\end{center}\n",
       "\n",
       "Notes: \\newline\n",
       " [1] Standard Errors assume that the covariance matrix of the errors is correctly specified. \\newline\n",
       " [2] The condition number is large, 1.12e+03. This might indicate that there are \\newline\n",
       " strong multicollinearity or other numerical problems."
      ],
      "text/plain": [
       "<class 'statsmodels.iolib.summary.Summary'>\n",
       "\"\"\"\n",
       "                            OLS Regression Results                            \n",
       "==============================================================================\n",
       "Dep. Variable:                traffic   R-squared:                       0.075\n",
       "Model:                            OLS   Adj. R-squared:                  0.075\n",
       "Method:                 Least Squares   F-statistic:                     8349.\n",
       "Date:                Sat, 12 Apr 2025   Prob (F-statistic):               0.00\n",
       "Time:                        19:45:08   Log-Likelihood:            -8.9643e+05\n",
       "No. Observations:              102480   AIC:                         1.793e+06\n",
       "Df Residuals:                  102478   BIC:                         1.793e+06\n",
       "Df Model:                           1                                         \n",
       "Covariance Type:            nonrobust                                         \n",
       "=================================================================================\n",
       "                    coef    std err          t      P>|t|      [0.025      0.975]\n",
       "---------------------------------------------------------------------------------\n",
       "signal_rho_95     0.8518      0.009     91.372      0.000       0.834       0.870\n",
       "intercept      1043.1811      7.049    147.980      0.000    1029.364    1056.998\n",
       "==============================================================================\n",
       "Omnibus:                    29157.694   Durbin-Watson:                   0.077\n",
       "Prob(Omnibus):                  0.000   Jarque-Bera (JB):            72385.580\n",
       "Skew:                           1.581   Prob(JB):                         0.00\n",
       "Kurtosis:                       5.636   Cond. No.                     1.12e+03\n",
       "==============================================================================\n",
       "\n",
       "Notes:\n",
       "[1] Standard Errors assume that the covariance matrix of the errors is correctly specified.\n",
       "[2] The condition number is large, 1.12e+03. This might indicate that there are\n",
       "strong multicollinearity or other numerical problems.\n",
       "\"\"\""
      ]
     },
     "execution_count": 59,
     "metadata": {},
     "output_type": "execute_result"
    }
   ],
   "source": [
    "mod0 = sm.OLS(Y_train, X_train)\n",
    "results0 = mod0.fit()\n",
    "results0.summary()"
   ]
  },
  {
   "cell_type": "code",
   "execution_count": 63,
   "metadata": {},
   "outputs": [
    {
     "data": {
      "text/plain": [
       "<matplotlib.collections.PathCollection at 0x3a255cad0>"
      ]
     },
     "execution_count": 63,
     "metadata": {},
     "output_type": "execute_result"
    },
    {
     "data": {
      "image/png": "[encoded data removed]",
      "text/plain": [
       "<Figure size 640x480 with 1 Axes>"
      ]
     },
     "metadata": {},
     "output_type": "display_data"
    }
   ],
   "source": [
    "# plt.scatter(df2['signal_km_1'], df2['traffic'], s = 1)\n",
    "plt.scatter(df2['signal_rho_95'], (df2['traffic']), s = 1)"
   ]
  },
  {
   "cell_type": "code",
   "execution_count": null,
   "metadata": {},
   "outputs": [],
   "source": []
  }
 ],
 "metadata": {
  "kernelspec": {
   "display_name": "wec25",
   "language": "python",
   "name": "python3"
  },
  "language_info": {
   "codemirror_mode": {
    "name": "ipython",
    "version": 3
   },
   "file_extension": ".py",
   "mimetype": "text/x-python",
   "name": "python",
   "nbconvert_exporter": "python",
   "pygments_lexer": "ipython3",
   "version": "3.12.2"
  }
 },
 "nbformat": 4,
 "nbformat_minor": 2
}
