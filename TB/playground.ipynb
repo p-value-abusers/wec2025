{
 "cells": [
  {
   "cell_type": "code",
   "execution_count": 4,
   "metadata": {},
   "outputs": [
    {
     "name": "stdout",
     "output_type": "stream",
     "text": [
      "/Users/tymoteuszbarcinski/DTU/WEC2025/wec2025/TB\n"
     ]
    }
   ],
   "source": [
    "import pandas as pd\n",
    "import xgboost as xgb\n",
    "from sklearn.model_selection import train_test_split\n",
    "import numpy as np\n",
    "import matplotlib.pyplot as plt\n",
    "import os\n",
    "\n",
    "print(os.getcwd())\n",
    "\n",
    "import sys\n",
    "from pathlib import Path"
   ]
  },
  {
   "cell_type": "code",
   "execution_count": 5,
   "metadata": {},
   "outputs": [
    {
     "data": {
      "text/plain": [
       "PosixPath('/Users/tymoteuszbarcinski/DTU/WEC2025/wec2025')"
      ]
     },
     "execution_count": 5,
     "metadata": {},
     "output_type": "execute_result"
    }
   ],
   "source": [
    "Path().resolve().parent"
   ]
  },
  {
   "cell_type": "code",
   "execution_count": 10,
   "metadata": {},
   "outputs": [
    {
     "name": "stdout",
     "output_type": "stream",
     "text": [
      "ROOT_PATH=PosixPath('/Users/tymoteuszbarcinski/DTU/WEC2025/wec2025')\n",
      "DATA_PATH=PosixPath('/Users/tymoteuszbarcinski/DTU/WEC2025/wec2025/for_participants/data_parquet')\n"
     ]
    }
   ],
   "source": [
    "# Add utils to path\n",
    "ROOT_PATH = Path().resolve().parent\n",
    "print(f\"{ROOT_PATH=}\")\n",
    "DATA_PATH = ROOT_PATH / \"for_participants\" / \"data_parquet\"\n",
    "assert DATA_PATH.exists()\n",
    "sys.path.append(str(ROOT_PATH))\n",
    "print(f\"{DATA_PATH=}\")\n",
    "\n",
    "# ASSIGNMENT_DIR = Path().resolve().parent\n",
    "# HANDIN_DIR = ASSIGNMENT_DIR / 'handin'\n",
    "OUTPUT_DIR = ROOT_PATH / 'output'"
   ]
  },
  {
   "cell_type": "code",
   "execution_count": 41,
   "metadata": {},
   "outputs": [],
   "source": [
    "def read_data(file_name):\n",
    "    df_tmp = pd.read_parquet(DATA_PATH / f'{file_name}.parquet')\n",
    "    print(df_tmp.shape)\n",
    "    return df_tmp"
   ]
  },
  {
   "cell_type": "markdown",
   "metadata": {},
   "source": [
    "# Buildings"
   ]
  },
  {
   "cell_type": "code",
   "execution_count": 36,
   "metadata": {},
   "outputs": [
    {
     "name": "stdout",
     "output_type": "stream",
     "text": [
      "(1440870, 6)\n"
     ]
    }
   ],
   "source": [
    "df_buildings = read_data('buildings')\n",
    "print(df_buildings.shape)"
   ]
  },
  {
   "cell_type": "code",
   "execution_count": 14,
   "metadata": {},
   "outputs": [
    {
     "data": {
      "text/html": [
       "<div>\n",
       "<style scoped>\n",
       "    .dataframe tbody tr th:only-of-type {\n",
       "        vertical-align: middle;\n",
       "    }\n",
       "\n",
       "    .dataframe tbody tr th {\n",
       "        vertical-align: top;\n",
       "    }\n",
       "\n",
       "    .dataframe thead th {\n",
       "        text-align: right;\n",
       "    }\n",
       "</style>\n",
       "<table border=\"1\" class=\"dataframe\">\n",
       "  <thead>\n",
       "    <tr style=\"text-align: right;\">\n",
       "      <th></th>\n",
       "      <th>h3res13</th>\n",
       "      <th>building_id</th>\n",
       "      <th>building_function</th>\n",
       "      <th>building_floors</th>\n",
       "      <th>building_flats</th>\n",
       "      <th>building_area</th>\n",
       "    </tr>\n",
       "  </thead>\n",
       "  <tbody>\n",
       "    <tr>\n",
       "      <th>0</th>\n",
       "      <td>8d1f53cd3299dbf</td>\n",
       "      <td>3303EA7E-6861-33C1-E053-CA2BA8C02B7D</td>\n",
       "      <td>Agricultural Building</td>\n",
       "      <td>1.0</td>\n",
       "      <td>0</td>\n",
       "      <td>245.66</td>\n",
       "    </tr>\n",
       "    <tr>\n",
       "      <th>1</th>\n",
       "      <td>8d1f53cd3299d3f</td>\n",
       "      <td>3303EA7E-6861-33C1-E053-CA2BA8C02B7D</td>\n",
       "      <td>Agricultural Building</td>\n",
       "      <td>1.0</td>\n",
       "      <td>0</td>\n",
       "      <td>245.66</td>\n",
       "    </tr>\n",
       "    <tr>\n",
       "      <th>2</th>\n",
       "      <td>8d1f53cd3299cbf</td>\n",
       "      <td>3303EA7E-6861-33C1-E053-CA2BA8C02B7D</td>\n",
       "      <td>Agricultural Building</td>\n",
       "      <td>1.0</td>\n",
       "      <td>0</td>\n",
       "      <td>245.66</td>\n",
       "    </tr>\n",
       "    <tr>\n",
       "      <th>3</th>\n",
       "      <td>8d1f53cd329d6ff</td>\n",
       "      <td>3303EA7E-6861-33C1-E053-CA2BA8C02B7D</td>\n",
       "      <td>Agricultural Building</td>\n",
       "      <td>1.0</td>\n",
       "      <td>0</td>\n",
       "      <td>245.66</td>\n",
       "    </tr>\n",
       "    <tr>\n",
       "      <th>4</th>\n",
       "      <td>8d1f53cd329837f</td>\n",
       "      <td>3303EA7E-6861-33C1-E053-CA2BA8C02B7D</td>\n",
       "      <td>Agricultural Building</td>\n",
       "      <td>1.0</td>\n",
       "      <td>0</td>\n",
       "      <td>245.66</td>\n",
       "    </tr>\n",
       "  </tbody>\n",
       "</table>\n",
       "</div>"
      ],
      "text/plain": [
       "           h3res13                           building_id  \\\n",
       "0  8d1f53cd3299dbf  3303EA7E-6861-33C1-E053-CA2BA8C02B7D   \n",
       "1  8d1f53cd3299d3f  3303EA7E-6861-33C1-E053-CA2BA8C02B7D   \n",
       "2  8d1f53cd3299cbf  3303EA7E-6861-33C1-E053-CA2BA8C02B7D   \n",
       "3  8d1f53cd329d6ff  3303EA7E-6861-33C1-E053-CA2BA8C02B7D   \n",
       "4  8d1f53cd329837f  3303EA7E-6861-33C1-E053-CA2BA8C02B7D   \n",
       "\n",
       "       building_function  building_floors  building_flats  building_area  \n",
       "0  Agricultural Building              1.0               0         245.66  \n",
       "1  Agricultural Building              1.0               0         245.66  \n",
       "2  Agricultural Building              1.0               0         245.66  \n",
       "3  Agricultural Building              1.0               0         245.66  \n",
       "4  Agricultural Building              1.0               0         245.66  "
      ]
     },
     "execution_count": 14,
     "metadata": {},
     "output_type": "execute_result"
    }
   ],
   "source": [
    "df_buildings.head()"
   ]
  },
  {
   "cell_type": "code",
   "execution_count": 20,
   "metadata": {},
   "outputs": [
    {
     "data": {
      "text/plain": [
       "building_function\n",
       "Single-Family Residence           418099\n",
       "Multi-Family Residence            371381\n",
       "Office Building                   115619\n",
       "Retail and Service Building        97803\n",
       "Agricultural Building              97422\n",
       "Silo or Warehouse                  87941\n",
       "Industrial Building                62074\n",
       "Schools and Research Institute     54779\n",
       "Car Park                           36810\n",
       "Hotel                              18213\n",
       "Apartment                          18062\n",
       "Hospitals and Medical Facility     15025\n",
       "Collected Dwelling Unit            13269\n",
       "Railway and Terminal Building       7619\n",
       "Cultural Facility                   6065\n",
       "Place of Worship                    5624\n",
       "Cultural Public Facility            5395\n",
       "Museums and Libraries               5082\n",
       "Non-Residential Building            4016\n",
       "Heritage Building                    316\n",
       "Tourist Accommodation Building       256\n",
       "Name: count, dtype: int64"
      ]
     },
     "execution_count": 20,
     "metadata": {},
     "output_type": "execute_result"
    }
   ],
   "source": [
    "df_buildings['building_function'].value_counts().sort_values(ascending=False)"
   ]
  },
  {
   "cell_type": "markdown",
   "metadata": {},
   "source": [
    "# Demography"
   ]
  },
  {
   "cell_type": "code",
   "execution_count": 38,
   "metadata": {},
   "outputs": [
    {
     "name": "stdout",
     "output_type": "stream",
     "text": [
      "(109678, 8)\n"
     ]
    }
   ],
   "source": [
    "df_dem = read_data('demography')\n",
    "print(df_dem.shape)"
   ]
  },
  {
   "cell_type": "code",
   "execution_count": 22,
   "metadata": {},
   "outputs": [
    {
     "data": {
      "text/html": [
       "<div>\n",
       "<style scoped>\n",
       "    .dataframe tbody tr th:only-of-type {\n",
       "        vertical-align: middle;\n",
       "    }\n",
       "\n",
       "    .dataframe tbody tr th {\n",
       "        vertical-align: top;\n",
       "    }\n",
       "\n",
       "    .dataframe thead th {\n",
       "        text-align: right;\n",
       "    }\n",
       "</style>\n",
       "<table border=\"1\" class=\"dataframe\">\n",
       "  <thead>\n",
       "    <tr style=\"text-align: right;\">\n",
       "      <th></th>\n",
       "      <th>h3res13</th>\n",
       "      <th>total</th>\n",
       "      <th>female0018</th>\n",
       "      <th>female1964</th>\n",
       "      <th>female6599</th>\n",
       "      <th>male0018</th>\n",
       "      <th>male1964</th>\n",
       "      <th>male6599</th>\n",
       "    </tr>\n",
       "  </thead>\n",
       "  <tbody>\n",
       "    <tr>\n",
       "      <th>0</th>\n",
       "      <td>8d1f5224000837f</td>\n",
       "      <td>6.0</td>\n",
       "      <td>1.0</td>\n",
       "      <td>3.0</td>\n",
       "      <td>1.0</td>\n",
       "      <td>0.0</td>\n",
       "      <td>1.0</td>\n",
       "      <td>0.0</td>\n",
       "    </tr>\n",
       "    <tr>\n",
       "      <th>1</th>\n",
       "      <td>8d1f522400084bf</td>\n",
       "      <td>1.0</td>\n",
       "      <td>0.0</td>\n",
       "      <td>0.0</td>\n",
       "      <td>0.0</td>\n",
       "      <td>0.0</td>\n",
       "      <td>0.0</td>\n",
       "      <td>1.0</td>\n",
       "    </tr>\n",
       "    <tr>\n",
       "      <th>2</th>\n",
       "      <td>8d1f522400088ff</td>\n",
       "      <td>6.0</td>\n",
       "      <td>1.0</td>\n",
       "      <td>2.0</td>\n",
       "      <td>0.0</td>\n",
       "      <td>1.0</td>\n",
       "      <td>1.0</td>\n",
       "      <td>1.0</td>\n",
       "    </tr>\n",
       "    <tr>\n",
       "      <th>3</th>\n",
       "      <td>8d1f5224000943f</td>\n",
       "      <td>4.0</td>\n",
       "      <td>0.0</td>\n",
       "      <td>1.0</td>\n",
       "      <td>1.0</td>\n",
       "      <td>0.0</td>\n",
       "      <td>2.0</td>\n",
       "      <td>0.0</td>\n",
       "    </tr>\n",
       "    <tr>\n",
       "      <th>4</th>\n",
       "      <td>8d1f5224000a6ff</td>\n",
       "      <td>4.0</td>\n",
       "      <td>0.0</td>\n",
       "      <td>1.0</td>\n",
       "      <td>0.0</td>\n",
       "      <td>0.0</td>\n",
       "      <td>2.0</td>\n",
       "      <td>1.0</td>\n",
       "    </tr>\n",
       "    <tr>\n",
       "      <th>...</th>\n",
       "      <td>...</td>\n",
       "      <td>...</td>\n",
       "      <td>...</td>\n",
       "      <td>...</td>\n",
       "      <td>...</td>\n",
       "      <td>...</td>\n",
       "      <td>...</td>\n",
       "      <td>...</td>\n",
       "    </tr>\n",
       "    <tr>\n",
       "      <th>109673</th>\n",
       "      <td>8d1f53d9eda12ff</td>\n",
       "      <td>4.0</td>\n",
       "      <td>1.0</td>\n",
       "      <td>2.0</td>\n",
       "      <td>0.0</td>\n",
       "      <td>1.0</td>\n",
       "      <td>0.0</td>\n",
       "      <td>0.0</td>\n",
       "    </tr>\n",
       "    <tr>\n",
       "      <th>109674</th>\n",
       "      <td>8d1f53d9eda987f</td>\n",
       "      <td>0.0</td>\n",
       "      <td>0.0</td>\n",
       "      <td>0.0</td>\n",
       "      <td>0.0</td>\n",
       "      <td>0.0</td>\n",
       "      <td>0.0</td>\n",
       "      <td>0.0</td>\n",
       "    </tr>\n",
       "    <tr>\n",
       "      <th>109675</th>\n",
       "      <td>8d1f53d9edab47f</td>\n",
       "      <td>6.0</td>\n",
       "      <td>0.0</td>\n",
       "      <td>4.0</td>\n",
       "      <td>0.0</td>\n",
       "      <td>0.0</td>\n",
       "      <td>2.0</td>\n",
       "      <td>0.0</td>\n",
       "    </tr>\n",
       "    <tr>\n",
       "      <th>109676</th>\n",
       "      <td>8d1f53d9edadb7f</td>\n",
       "      <td>4.0</td>\n",
       "      <td>2.0</td>\n",
       "      <td>2.0</td>\n",
       "      <td>0.0</td>\n",
       "      <td>0.0</td>\n",
       "      <td>0.0</td>\n",
       "      <td>0.0</td>\n",
       "    </tr>\n",
       "    <tr>\n",
       "      <th>109677</th>\n",
       "      <td>8d1f53d9edaec3f</td>\n",
       "      <td>4.0</td>\n",
       "      <td>1.0</td>\n",
       "      <td>1.0</td>\n",
       "      <td>0.0</td>\n",
       "      <td>0.0</td>\n",
       "      <td>2.0</td>\n",
       "      <td>0.0</td>\n",
       "    </tr>\n",
       "  </tbody>\n",
       "</table>\n",
       "<p>109678 rows × 8 columns</p>\n",
       "</div>"
      ],
      "text/plain": [
       "                h3res13  total  female0018  female1964  female6599  male0018  \\\n",
       "0       8d1f5224000837f    6.0         1.0         3.0         1.0       0.0   \n",
       "1       8d1f522400084bf    1.0         0.0         0.0         0.0       0.0   \n",
       "2       8d1f522400088ff    6.0         1.0         2.0         0.0       1.0   \n",
       "3       8d1f5224000943f    4.0         0.0         1.0         1.0       0.0   \n",
       "4       8d1f5224000a6ff    4.0         0.0         1.0         0.0       0.0   \n",
       "...                 ...    ...         ...         ...         ...       ...   \n",
       "109673  8d1f53d9eda12ff    4.0         1.0         2.0         0.0       1.0   \n",
       "109674  8d1f53d9eda987f    0.0         0.0         0.0         0.0       0.0   \n",
       "109675  8d1f53d9edab47f    6.0         0.0         4.0         0.0       0.0   \n",
       "109676  8d1f53d9edadb7f    4.0         2.0         2.0         0.0       0.0   \n",
       "109677  8d1f53d9edaec3f    4.0         1.0         1.0         0.0       0.0   \n",
       "\n",
       "        male1964  male6599  \n",
       "0            1.0       0.0  \n",
       "1            0.0       1.0  \n",
       "2            1.0       1.0  \n",
       "3            2.0       0.0  \n",
       "4            2.0       1.0  \n",
       "...          ...       ...  \n",
       "109673       0.0       0.0  \n",
       "109674       0.0       0.0  \n",
       "109675       2.0       0.0  \n",
       "109676       0.0       0.0  \n",
       "109677       2.0       0.0  \n",
       "\n",
       "[109678 rows x 8 columns]"
      ]
     },
     "execution_count": 22,
     "metadata": {},
     "output_type": "execute_result"
    }
   ],
   "source": [
    "df_dem"
   ]
  },
  {
   "cell_type": "markdown",
   "metadata": {},
   "source": [
    "# Pois"
   ]
  },
  {
   "cell_type": "code",
   "execution_count": 39,
   "metadata": {},
   "outputs": [
    {
     "name": "stdout",
     "output_type": "stream",
     "text": [
      "(41119, 23)\n"
     ]
    }
   ],
   "source": [
    "df_pois = read_data('pois')\n",
    "print(df_pois.shape)"
   ]
  },
  {
   "cell_type": "code",
   "execution_count": 26,
   "metadata": {},
   "outputs": [
    {
     "data": {
      "text/html": [
       "<div>\n",
       "<style scoped>\n",
       "    .dataframe tbody tr th:only-of-type {\n",
       "        vertical-align: middle;\n",
       "    }\n",
       "\n",
       "    .dataframe tbody tr th {\n",
       "        vertical-align: top;\n",
       "    }\n",
       "\n",
       "    .dataframe thead th {\n",
       "        text-align: right;\n",
       "    }\n",
       "</style>\n",
       "<table border=\"1\" class=\"dataframe\">\n",
       "  <thead>\n",
       "    <tr style=\"text-align: right;\">\n",
       "      <th></th>\n",
       "      <th>h3res13</th>\n",
       "      <th>accommodation</th>\n",
       "      <th>active_life</th>\n",
       "      <th>arts_and_entertainment</th>\n",
       "      <th>attractions_and_activities</th>\n",
       "      <th>automotive</th>\n",
       "      <th>beauty_and_spa</th>\n",
       "      <th>business_to_business</th>\n",
       "      <th>eat_and_drink</th>\n",
       "      <th>education</th>\n",
       "      <th>...</th>\n",
       "      <th>mass_media</th>\n",
       "      <th>pets</th>\n",
       "      <th>private_establishments_and_corporates</th>\n",
       "      <th>professional_services</th>\n",
       "      <th>public_service_and_government</th>\n",
       "      <th>real_estate</th>\n",
       "      <th>religious_organization</th>\n",
       "      <th>retail</th>\n",
       "      <th>structure_and_geography</th>\n",
       "      <th>travel</th>\n",
       "    </tr>\n",
       "  </thead>\n",
       "  <tbody>\n",
       "    <tr>\n",
       "      <th>0</th>\n",
       "      <td>8d1f52240b2923f</td>\n",
       "      <td>1</td>\n",
       "      <td>0</td>\n",
       "      <td>0</td>\n",
       "      <td>0</td>\n",
       "      <td>0</td>\n",
       "      <td>0</td>\n",
       "      <td>0</td>\n",
       "      <td>0</td>\n",
       "      <td>0</td>\n",
       "      <td>...</td>\n",
       "      <td>0</td>\n",
       "      <td>0</td>\n",
       "      <td>0</td>\n",
       "      <td>0</td>\n",
       "      <td>0</td>\n",
       "      <td>0</td>\n",
       "      <td>0</td>\n",
       "      <td>0</td>\n",
       "      <td>0</td>\n",
       "      <td>0</td>\n",
       "    </tr>\n",
       "    <tr>\n",
       "      <th>1</th>\n",
       "      <td>8d1f52240b2ddbf</td>\n",
       "      <td>0</td>\n",
       "      <td>0</td>\n",
       "      <td>0</td>\n",
       "      <td>0</td>\n",
       "      <td>0</td>\n",
       "      <td>0</td>\n",
       "      <td>0</td>\n",
       "      <td>1</td>\n",
       "      <td>0</td>\n",
       "      <td>...</td>\n",
       "      <td>0</td>\n",
       "      <td>0</td>\n",
       "      <td>0</td>\n",
       "      <td>0</td>\n",
       "      <td>0</td>\n",
       "      <td>0</td>\n",
       "      <td>0</td>\n",
       "      <td>0</td>\n",
       "      <td>0</td>\n",
       "      <td>0</td>\n",
       "    </tr>\n",
       "    <tr>\n",
       "      <th>2</th>\n",
       "      <td>8d1f52240b404ff</td>\n",
       "      <td>0</td>\n",
       "      <td>0</td>\n",
       "      <td>0</td>\n",
       "      <td>0</td>\n",
       "      <td>0</td>\n",
       "      <td>0</td>\n",
       "      <td>1</td>\n",
       "      <td>0</td>\n",
       "      <td>0</td>\n",
       "      <td>...</td>\n",
       "      <td>1</td>\n",
       "      <td>0</td>\n",
       "      <td>0</td>\n",
       "      <td>0</td>\n",
       "      <td>0</td>\n",
       "      <td>0</td>\n",
       "      <td>0</td>\n",
       "      <td>0</td>\n",
       "      <td>0</td>\n",
       "      <td>0</td>\n",
       "    </tr>\n",
       "    <tr>\n",
       "      <th>3</th>\n",
       "      <td>8d1f52240b434bf</td>\n",
       "      <td>0</td>\n",
       "      <td>0</td>\n",
       "      <td>0</td>\n",
       "      <td>0</td>\n",
       "      <td>0</td>\n",
       "      <td>0</td>\n",
       "      <td>0</td>\n",
       "      <td>0</td>\n",
       "      <td>1</td>\n",
       "      <td>...</td>\n",
       "      <td>0</td>\n",
       "      <td>0</td>\n",
       "      <td>0</td>\n",
       "      <td>0</td>\n",
       "      <td>0</td>\n",
       "      <td>0</td>\n",
       "      <td>0</td>\n",
       "      <td>0</td>\n",
       "      <td>0</td>\n",
       "      <td>0</td>\n",
       "    </tr>\n",
       "    <tr>\n",
       "      <th>4</th>\n",
       "      <td>8d1f52240b636bf</td>\n",
       "      <td>0</td>\n",
       "      <td>0</td>\n",
       "      <td>0</td>\n",
       "      <td>0</td>\n",
       "      <td>0</td>\n",
       "      <td>0</td>\n",
       "      <td>0</td>\n",
       "      <td>0</td>\n",
       "      <td>0</td>\n",
       "      <td>...</td>\n",
       "      <td>0</td>\n",
       "      <td>0</td>\n",
       "      <td>0</td>\n",
       "      <td>1</td>\n",
       "      <td>0</td>\n",
       "      <td>0</td>\n",
       "      <td>0</td>\n",
       "      <td>0</td>\n",
       "      <td>0</td>\n",
       "      <td>0</td>\n",
       "    </tr>\n",
       "  </tbody>\n",
       "</table>\n",
       "<p>5 rows × 23 columns</p>\n",
       "</div>"
      ],
      "text/plain": [
       "           h3res13  accommodation  active_life  arts_and_entertainment  \\\n",
       "0  8d1f52240b2923f              1            0                       0   \n",
       "1  8d1f52240b2ddbf              0            0                       0   \n",
       "2  8d1f52240b404ff              0            0                       0   \n",
       "3  8d1f52240b434bf              0            0                       0   \n",
       "4  8d1f52240b636bf              0            0                       0   \n",
       "\n",
       "   attractions_and_activities  automotive  beauty_and_spa  \\\n",
       "0                           0           0               0   \n",
       "1                           0           0               0   \n",
       "2                           0           0               0   \n",
       "3                           0           0               0   \n",
       "4                           0           0               0   \n",
       "\n",
       "   business_to_business  eat_and_drink  education  ...  mass_media  pets  \\\n",
       "0                     0              0          0  ...           0     0   \n",
       "1                     0              1          0  ...           0     0   \n",
       "2                     1              0          0  ...           1     0   \n",
       "3                     0              0          1  ...           0     0   \n",
       "4                     0              0          0  ...           0     0   \n",
       "\n",
       "   private_establishments_and_corporates  professional_services  \\\n",
       "0                                      0                      0   \n",
       "1                                      0                      0   \n",
       "2                                      0                      0   \n",
       "3                                      0                      0   \n",
       "4                                      0                      1   \n",
       "\n",
       "   public_service_and_government  real_estate  religious_organization  retail  \\\n",
       "0                              0            0                       0       0   \n",
       "1                              0            0                       0       0   \n",
       "2                              0            0                       0       0   \n",
       "3                              0            0                       0       0   \n",
       "4                              0            0                       0       0   \n",
       "\n",
       "   structure_and_geography  travel  \n",
       "0                        0       0  \n",
       "1                        0       0  \n",
       "2                        0       0  \n",
       "3                        0       0  \n",
       "4                        0       0  \n",
       "\n",
       "[5 rows x 23 columns]"
      ]
     },
     "execution_count": 26,
     "metadata": {},
     "output_type": "execute_result"
    }
   ],
   "source": [
    "df_pois.head()"
   ]
  },
  {
   "cell_type": "code",
   "execution_count": 27,
   "metadata": {},
   "outputs": [
    {
     "data": {
      "text/plain": [
       "Index(['h3res13', 'accommodation', 'active_life', 'arts_and_entertainment',\n",
       "       'attractions_and_activities', 'automotive', 'beauty_and_spa',\n",
       "       'business_to_business', 'eat_and_drink', 'education',\n",
       "       'financial_service', 'health_and_medical', 'home_service', 'mass_media',\n",
       "       'pets', 'private_establishments_and_corporates',\n",
       "       'professional_services', 'public_service_and_government', 'real_estate',\n",
       "       'religious_organization', 'retail', 'structure_and_geography',\n",
       "       'travel'],\n",
       "      dtype='object')"
      ]
     },
     "execution_count": 27,
     "metadata": {},
     "output_type": "execute_result"
    }
   ],
   "source": [
    "df_pois.columns"
   ]
  },
  {
   "cell_type": "markdown",
   "metadata": {},
   "source": [
    "# Roads "
   ]
  },
  {
   "cell_type": "code",
   "execution_count": 42,
   "metadata": {},
   "outputs": [
    {
     "name": "stdout",
     "output_type": "stream",
     "text": [
      "(2412766, 17)\n"
     ]
    }
   ],
   "source": [
    "df_roads = read_data('roads')"
   ]
  },
  {
   "cell_type": "code",
   "execution_count": 32,
   "metadata": {},
   "outputs": [
    {
     "data": {
      "text/plain": [
       "Index(['h3res13', 'bridleway', 'cycleway', 'footway', 'living_street',\n",
       "       'motorway', 'path', 'pedestrian', 'primary', 'residential', 'secondary',\n",
       "       'service', 'steps', 'tertiary', 'track', 'unclassified', 'unknown'],\n",
       "      dtype='object')"
      ]
     },
     "execution_count": 32,
     "metadata": {},
     "output_type": "execute_result"
    }
   ],
   "source": [
    "df_roads.columns"
   ]
  },
  {
   "cell_type": "markdown",
   "metadata": {},
   "source": [
    "# Signals"
   ]
  },
  {
   "cell_type": "code",
   "execution_count": 43,
   "metadata": {},
   "outputs": [
    {
     "name": "stdout",
     "output_type": "stream",
     "text": [
      "(24072552, 53)\n"
     ]
    }
   ],
   "source": [
    "df_signals = read_data('signals')"
   ]
  },
  {
   "cell_type": "code",
   "execution_count": 49,
   "metadata": {},
   "outputs": [],
   "source": [
    "df_signals_subset = df_signals.iloc[0:1000, :]"
   ]
  },
  {
   "cell_type": "code",
   "execution_count": 52,
   "metadata": {},
   "outputs": [
    {
     "data": {
      "text/html": [
       "<div>\n",
       "<style scoped>\n",
       "    .dataframe tbody tr th:only-of-type {\n",
       "        vertical-align: middle;\n",
       "    }\n",
       "\n",
       "    .dataframe tbody tr th {\n",
       "        vertical-align: top;\n",
       "    }\n",
       "\n",
       "    .dataframe thead th {\n",
       "        text-align: right;\n",
       "    }\n",
       "</style>\n",
       "<table border=\"1\" class=\"dataframe\">\n",
       "  <thead>\n",
       "    <tr style=\"text-align: right;\">\n",
       "      <th></th>\n",
       "      <th>h3res13</th>\n",
       "      <th>signal_date</th>\n",
       "      <th>weekday</th>\n",
       "      <th>ctn_per_day</th>\n",
       "      <th>ctd_per_day</th>\n",
       "      <th>ctn_0</th>\n",
       "      <th>ctn_1</th>\n",
       "      <th>ctn_2</th>\n",
       "      <th>ctn_3</th>\n",
       "      <th>ctn_4</th>\n",
       "      <th>...</th>\n",
       "      <th>ctd_14</th>\n",
       "      <th>ctd_15</th>\n",
       "      <th>ctd_16</th>\n",
       "      <th>ctd_17</th>\n",
       "      <th>ctd_18</th>\n",
       "      <th>ctd_19</th>\n",
       "      <th>ctd_20</th>\n",
       "      <th>ctd_21</th>\n",
       "      <th>ctd_22</th>\n",
       "      <th>ctd_23</th>\n",
       "    </tr>\n",
       "  </thead>\n",
       "  <tbody>\n",
       "    <tr>\n",
       "      <th>374</th>\n",
       "      <td>8d1f52240a6137f</td>\n",
       "      <td>2024-03-09</td>\n",
       "      <td>6</td>\n",
       "      <td>1</td>\n",
       "      <td>1</td>\n",
       "      <td>1</td>\n",
       "      <td>0</td>\n",
       "      <td>0</td>\n",
       "      <td>0</td>\n",
       "      <td>0</td>\n",
       "      <td>...</td>\n",
       "      <td>0</td>\n",
       "      <td>0</td>\n",
       "      <td>0</td>\n",
       "      <td>0</td>\n",
       "      <td>0</td>\n",
       "      <td>0</td>\n",
       "      <td>0</td>\n",
       "      <td>0</td>\n",
       "      <td>0</td>\n",
       "      <td>0</td>\n",
       "    </tr>\n",
       "    <tr>\n",
       "      <th>673</th>\n",
       "      <td>8d1f52240a61aff</td>\n",
       "      <td>2024-03-03</td>\n",
       "      <td>7</td>\n",
       "      <td>1</td>\n",
       "      <td>1</td>\n",
       "      <td>1</td>\n",
       "      <td>0</td>\n",
       "      <td>0</td>\n",
       "      <td>0</td>\n",
       "      <td>0</td>\n",
       "      <td>...</td>\n",
       "      <td>0</td>\n",
       "      <td>0</td>\n",
       "      <td>0</td>\n",
       "      <td>0</td>\n",
       "      <td>0</td>\n",
       "      <td>0</td>\n",
       "      <td>0</td>\n",
       "      <td>0</td>\n",
       "      <td>0</td>\n",
       "      <td>0</td>\n",
       "    </tr>\n",
       "  </tbody>\n",
       "</table>\n",
       "<p>2 rows × 53 columns</p>\n",
       "</div>"
      ],
      "text/plain": [
       "             h3res13 signal_date  weekday  ctn_per_day  ctd_per_day  ctn_0  \\\n",
       "374  8d1f52240a6137f  2024-03-09        6            1            1      1   \n",
       "673  8d1f52240a61aff  2024-03-03        7            1            1      1   \n",
       "\n",
       "     ctn_1  ctn_2  ctn_3  ctn_4  ...  ctd_14  ctd_15  ctd_16  ctd_17  ctd_18  \\\n",
       "374      0      0      0      0  ...       0       0       0       0       0   \n",
       "673      0      0      0      0  ...       0       0       0       0       0   \n",
       "\n",
       "     ctd_19  ctd_20  ctd_21  ctd_22  ctd_23  \n",
       "374       0       0       0       0       0  \n",
       "673       0       0       0       0       0  \n",
       "\n",
       "[2 rows x 53 columns]"
      ]
     },
     "execution_count": 52,
     "metadata": {},
     "output_type": "execute_result"
    }
   ],
   "source": [
    "df_signals_subset.loc[lambda x: x['ctn_0'] != 0]"
   ]
  },
  {
   "cell_type": "markdown",
   "metadata": {},
   "source": [
    "# Traffic train"
   ]
  },
  {
   "cell_type": "code",
   "execution_count": 46,
   "metadata": {},
   "outputs": [
    {
     "name": "stdout",
     "output_type": "stream",
     "text": [
      "(102480, 9)\n"
     ]
    }
   ],
   "source": [
    "df_traffic = read_data('traffic_train')"
   ]
  },
  {
   "cell_type": "code",
   "execution_count": 48,
   "metadata": {},
   "outputs": [
    {
     "data": {
      "text/plain": [
       "segment\n",
       "Bartoka - Dolina Służewiecka         2928\n",
       "al. 3 Maja - Czerwonego Krzyża       2928\n",
       "Parowcowa - Połczyńska               1464\n",
       "Gotarda - Modzelewskiego             1464\n",
       "Dolina Służewiecka - Wałbrzyska      1464\n",
       "                                     ... \n",
       "Perzyńskiego - Romaszewskiego        1464\n",
       "Potocka - Klaudyny                   1464\n",
       "al. Armii Krajowej - Barszczewska    1464\n",
       "Rudzka - Trószczyńskiego             1464\n",
       "Dziwożony - Wóycickiego              1464\n",
       "Name: count, Length: 68, dtype: int64"
      ]
     },
     "execution_count": 48,
     "metadata": {},
     "output_type": "execute_result"
    }
   ],
   "source": [
    "df_traffic['segment'].value_counts().sort_values(ascending=False)"
   ]
  },
  {
   "cell_type": "markdown",
   "metadata": {},
   "source": [
    "# Del memory"
   ]
  },
  {
   "cell_type": "code",
   "execution_count": 1,
   "metadata": {},
   "outputs": [
    {
     "ename": "NameError",
     "evalue": "name 'df_buildings' is not defined",
     "output_type": "error",
     "traceback": [
      "\u001b[31m---------------------------------------------------------------------------\u001b[39m",
      "\u001b[31mNameError\u001b[39m                                 Traceback (most recent call last)",
      "\u001b[36mCell\u001b[39m\u001b[36m \u001b[39m\u001b[32mIn[1]\u001b[39m\u001b[32m, line 1\u001b[39m\n\u001b[32m----> \u001b[39m\u001b[32m1\u001b[39m \u001b[38;5;28;01mdel\u001b[39;00m \u001b[43mdf_buildings\u001b[49m\n\u001b[32m      2\u001b[39m \u001b[38;5;28;01mdel\u001b[39;00m df_dem\n\u001b[32m      3\u001b[39m \u001b[38;5;28;01mdel\u001b[39;00m df_pois\n",
      "\u001b[31mNameError\u001b[39m: name 'df_buildings' is not defined"
     ]
    }
   ],
   "source": [
    "del df_buildings\n",
    "del df_dem\n",
    "del df_pois\n",
    "del df_roads\n",
    "del df_signals\n",
    "del df_traffic"
   ]
  }
 ],
 "metadata": {
  "kernelspec": {
   "display_name": "wec25",
   "language": "python",
   "name": "python3"
  },
  "language_info": {
   "codemirror_mode": {
    "name": "ipython",
    "version": 3
   },
   "file_extension": ".py",
   "mimetype": "text/x-python",
   "name": "python",
   "nbconvert_exporter": "python",
   "pygments_lexer": "ipython3",
   "version": "3.12.9"
  }
 },
 "nbformat": 4,
 "nbformat_minor": 2
}
