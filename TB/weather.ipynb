{
 "cells": [
  {
   "cell_type": "code",
   "execution_count": 63,
   "metadata": {},
   "outputs": [
    {
     "name": "stdout",
     "output_type": "stream",
     "text": [
      "/Users/tymoteuszbarcinski/DTU/WEC2025/wec2025/TB\n"
     ]
    }
   ],
   "source": [
    "import pandas as pd\n",
    "import xgboost as xgb\n",
    "from sklearn.model_selection import train_test_split\n",
    "import numpy as np\n",
    "import matplotlib.pyplot as plt\n",
    "import os\n",
    "import requests\n",
    "from tqdm import tqdm\n",
    "import json\n",
    "\n",
    "print(os.getcwd())\n",
    "\n",
    "import sys\n",
    "from pathlib import Path\n",
    "\n",
    "import warnings\n",
    "warnings.filterwarnings('ignore')\n",
    "\n",
    "from meteostat import Point, Hourly\n",
    "import pandas as pd\n",
    "from datetime import datetime"
   ]
  },
  {
   "cell_type": "code",
   "execution_count": 11,
   "metadata": {},
   "outputs": [
    {
     "name": "stdout",
     "output_type": "stream",
     "text": [
      "ROOT_PATH=PosixPath('/Users/tymoteuszbarcinski/DTU/WEC2025/wec2025')\n",
      "DATA_PATH=PosixPath('/Users/tymoteuszbarcinski/DTU/WEC2025/wec2025/for_participants/data_parquet')\n"
     ]
    }
   ],
   "source": [
    "Path().resolve().parent\n",
    "\n",
    "# Add utils to path\n",
    "ROOT_PATH = Path().resolve().parent\n",
    "print(f\"{ROOT_PATH=}\")\n",
    "DATA_PATH = ROOT_PATH / \"for_participants\" / \"data_parquet\"\n",
    "# assert DATA_PATH.exists()\n",
    "sys.path.append(str(ROOT_PATH))\n",
    "print(f\"{DATA_PATH=}\")\n",
    "\n",
    "# ASSIGNMENT_DIR = Path().resolve().parent\n",
    "# HANDIN_DIR = ASSIGNMENT_DIR / 'handin'\n",
    "OUTPUT_DIR = ROOT_PATH / 'output'\n",
    "\n",
    "def read_data(file_name):\n",
    "    df_tmp = pd.read_parquet(DATA_PATH / f'{file_name}.parquet')\n",
    "    print(df_tmp.shape)\n",
    "    return df_tmp"
   ]
  },
  {
   "cell_type": "markdown",
   "metadata": {},
   "source": [
    "# Stations"
   ]
  },
  {
   "cell_type": "code",
   "execution_count": 17,
   "metadata": {},
   "outputs": [
    {
     "name": "stdout",
     "output_type": "stream",
     "text": [
      "(102480, 9)\n",
      "(67344, 8)\n"
     ]
    }
   ],
   "source": [
    "df_traffic_train = read_data('traffic_train')\n",
    "df_traffic_test = read_data('traffic_test_without_target')"
   ]
  },
  {
   "cell_type": "code",
   "execution_count": 32,
   "metadata": {},
   "outputs": [],
   "source": [
    "df_stations_train = df_traffic_train.drop_duplicates(subset=['station_id'], keep='first')\n",
    "df_stations_train['type'] = \"train\"\n",
    "df_traffic_test = df_traffic_test.drop_duplicates(subset=['station_id'], keep='first')\n",
    "df_traffic_test['type'] = \"test\"\n",
    "\n",
    "date_min = df_traffic_train['date'].sort_values().min()\n",
    "date_max = df_traffic_train['date'].sort_values().max()\n",
    "\n",
    "df_stations = pd.concat([df_stations_train, df_traffic_test], axis=0)"
   ]
  },
  {
   "cell_type": "code",
   "execution_count": 42,
   "metadata": {},
   "outputs": [
    {
     "name": "stdout",
     "output_type": "stream",
     "text": [
      "lon: 20.9321, lat: 52.165\n"
     ]
    }
   ],
   "source": [
    "lon, lat = df_stations.iloc[0, :]['lon'], df_stations.iloc[0, :]['lat']\n",
    "print(f\"lon: {lon}, lat: {lat}\")"
   ]
  },
  {
   "cell_type": "markdown",
   "metadata": {},
   "source": [
    "# MeteoStat"
   ]
  },
  {
   "cell_type": "code",
   "execution_count": 67,
   "metadata": {},
   "outputs": [
    {
     "name": "stderr",
     "output_type": "stream",
     "text": [
      "116it [00:02, 43.42it/s]\n"
     ]
    }
   ],
   "source": [
    "start = datetime.strptime(f\"{str(date_min)} 00:00:00\", \"%Y-%m-%d %H:%M:%S\")\n",
    "end = datetime.strptime(f\"{str(date_max)} 23:59:59\", \"%Y-%m-%d %H:%M:%S\")\n",
    "\n",
    "df_meteo  = pd.DataFrame()\n",
    "\n",
    "for _, row in tqdm(df_stations.iterrows()):\n",
    "\n",
    "    warsaw = Point(lat = row['lat'], lon = row['lon'])\n",
    "    data = Hourly(warsaw, start, end)\n",
    "    data = data.fetch()\n",
    "    data['lon'] = row['lat']\n",
    "    data['lat'] = row['lon']\n",
    "    data['station_id'] = row['station_id']\n",
    "\n",
    "    df_meteo = pd.concat([df_meteo, data], axis=0)\n",
    "\n",
    "    # Display the data\n",
    "    # print(data[[\"temp\", \"prcp\", \"cldc\"]])  # Temperature, precipitation, cloud cover"
   ]
  },
  {
   "cell_type": "code",
   "execution_count": 73,
   "metadata": {},
   "outputs": [
    {
     "data": {
      "text/plain": [
       "array([9.4])"
      ]
     },
     "execution_count": 73,
     "metadata": {},
     "output_type": "execute_result"
    }
   ],
   "source": [
    "df_meteo.loc['2024-03-01 00:00:00']['temp'].unique()"
   ]
  },
  {
   "cell_type": "code",
   "execution_count": 77,
   "metadata": {},
   "outputs": [
    {
     "data": {
      "text/html": [
       "<div>\n",
       "<style scoped>\n",
       "    .dataframe tbody tr th:only-of-type {\n",
       "        vertical-align: middle;\n",
       "    }\n",
       "\n",
       "    .dataframe tbody tr th {\n",
       "        vertical-align: top;\n",
       "    }\n",
       "\n",
       "    .dataframe thead th {\n",
       "        text-align: right;\n",
       "    }\n",
       "</style>\n",
       "<table border=\"1\" class=\"dataframe\">\n",
       "  <thead>\n",
       "    <tr style=\"text-align: right;\">\n",
       "      <th></th>\n",
       "      <th>temp</th>\n",
       "      <th>dwpt</th>\n",
       "      <th>rhum</th>\n",
       "      <th>prcp</th>\n",
       "      <th>snow</th>\n",
       "      <th>wdir</th>\n",
       "      <th>wspd</th>\n",
       "      <th>wpgt</th>\n",
       "      <th>pres</th>\n",
       "      <th>tsun</th>\n",
       "      <th>coco</th>\n",
       "      <th>lon</th>\n",
       "      <th>lat</th>\n",
       "      <th>station_id</th>\n",
       "    </tr>\n",
       "    <tr>\n",
       "      <th>time</th>\n",
       "      <th></th>\n",
       "      <th></th>\n",
       "      <th></th>\n",
       "      <th></th>\n",
       "      <th></th>\n",
       "      <th></th>\n",
       "      <th></th>\n",
       "      <th></th>\n",
       "      <th></th>\n",
       "      <th></th>\n",
       "      <th></th>\n",
       "      <th></th>\n",
       "      <th></th>\n",
       "      <th></th>\n",
       "    </tr>\n",
       "  </thead>\n",
       "  <tbody>\n",
       "    <tr>\n",
       "      <th>2024-03-01 00:00:00</th>\n",
       "      <td>0.0</td>\n",
       "      <td>0.0</td>\n",
       "      <td>0.0</td>\n",
       "      <td>0.0</td>\n",
       "      <td>NaN</td>\n",
       "      <td>0.0</td>\n",
       "      <td>0.0</td>\n",
       "      <td>0.0</td>\n",
       "      <td>0.0</td>\n",
       "      <td>NaN</td>\n",
       "      <td>0.0</td>\n",
       "      <td>0.048213</td>\n",
       "      <td>0.077458</td>\n",
       "      <td>1679.160028</td>\n",
       "    </tr>\n",
       "    <tr>\n",
       "      <th>2024-03-01 01:00:00</th>\n",
       "      <td>0.0</td>\n",
       "      <td>0.0</td>\n",
       "      <td>0.0</td>\n",
       "      <td>0.0</td>\n",
       "      <td>NaN</td>\n",
       "      <td>0.0</td>\n",
       "      <td>0.0</td>\n",
       "      <td>0.0</td>\n",
       "      <td>0.0</td>\n",
       "      <td>NaN</td>\n",
       "      <td>0.0</td>\n",
       "      <td>0.048213</td>\n",
       "      <td>0.077458</td>\n",
       "      <td>1679.160028</td>\n",
       "    </tr>\n",
       "    <tr>\n",
       "      <th>2024-03-01 02:00:00</th>\n",
       "      <td>0.0</td>\n",
       "      <td>0.0</td>\n",
       "      <td>0.0</td>\n",
       "      <td>0.0</td>\n",
       "      <td>NaN</td>\n",
       "      <td>0.0</td>\n",
       "      <td>0.0</td>\n",
       "      <td>0.0</td>\n",
       "      <td>0.0</td>\n",
       "      <td>NaN</td>\n",
       "      <td>0.0</td>\n",
       "      <td>0.048213</td>\n",
       "      <td>0.077458</td>\n",
       "      <td>1679.160028</td>\n",
       "    </tr>\n",
       "    <tr>\n",
       "      <th>2024-03-01 03:00:00</th>\n",
       "      <td>0.0</td>\n",
       "      <td>0.0</td>\n",
       "      <td>0.0</td>\n",
       "      <td>0.0</td>\n",
       "      <td>NaN</td>\n",
       "      <td>0.0</td>\n",
       "      <td>0.0</td>\n",
       "      <td>0.0</td>\n",
       "      <td>0.0</td>\n",
       "      <td>NaN</td>\n",
       "      <td>0.0</td>\n",
       "      <td>0.048213</td>\n",
       "      <td>0.077458</td>\n",
       "      <td>1679.160028</td>\n",
       "    </tr>\n",
       "    <tr>\n",
       "      <th>2024-03-01 04:00:00</th>\n",
       "      <td>0.0</td>\n",
       "      <td>0.0</td>\n",
       "      <td>0.0</td>\n",
       "      <td>0.0</td>\n",
       "      <td>NaN</td>\n",
       "      <td>0.0</td>\n",
       "      <td>0.0</td>\n",
       "      <td>0.0</td>\n",
       "      <td>0.0</td>\n",
       "      <td>NaN</td>\n",
       "      <td>0.0</td>\n",
       "      <td>0.048213</td>\n",
       "      <td>0.077458</td>\n",
       "      <td>1679.160028</td>\n",
       "    </tr>\n",
       "    <tr>\n",
       "      <th>...</th>\n",
       "      <td>...</td>\n",
       "      <td>...</td>\n",
       "      <td>...</td>\n",
       "      <td>...</td>\n",
       "      <td>...</td>\n",
       "      <td>...</td>\n",
       "      <td>...</td>\n",
       "      <td>...</td>\n",
       "      <td>...</td>\n",
       "      <td>...</td>\n",
       "      <td>...</td>\n",
       "      <td>...</td>\n",
       "      <td>...</td>\n",
       "      <td>...</td>\n",
       "    </tr>\n",
       "    <tr>\n",
       "      <th>2024-04-30 19:00:00</th>\n",
       "      <td>0.0</td>\n",
       "      <td>0.0</td>\n",
       "      <td>0.0</td>\n",
       "      <td>0.0</td>\n",
       "      <td>NaN</td>\n",
       "      <td>0.0</td>\n",
       "      <td>0.0</td>\n",
       "      <td>0.0</td>\n",
       "      <td>0.0</td>\n",
       "      <td>NaN</td>\n",
       "      <td>0.0</td>\n",
       "      <td>0.048213</td>\n",
       "      <td>0.077458</td>\n",
       "      <td>1679.160028</td>\n",
       "    </tr>\n",
       "    <tr>\n",
       "      <th>2024-04-30 20:00:00</th>\n",
       "      <td>0.0</td>\n",
       "      <td>0.0</td>\n",
       "      <td>0.0</td>\n",
       "      <td>0.0</td>\n",
       "      <td>NaN</td>\n",
       "      <td>0.0</td>\n",
       "      <td>0.0</td>\n",
       "      <td>0.0</td>\n",
       "      <td>0.0</td>\n",
       "      <td>NaN</td>\n",
       "      <td>0.0</td>\n",
       "      <td>0.048213</td>\n",
       "      <td>0.077458</td>\n",
       "      <td>1679.160028</td>\n",
       "    </tr>\n",
       "    <tr>\n",
       "      <th>2024-04-30 21:00:00</th>\n",
       "      <td>0.0</td>\n",
       "      <td>0.0</td>\n",
       "      <td>0.0</td>\n",
       "      <td>0.0</td>\n",
       "      <td>NaN</td>\n",
       "      <td>0.0</td>\n",
       "      <td>0.0</td>\n",
       "      <td>0.0</td>\n",
       "      <td>0.0</td>\n",
       "      <td>NaN</td>\n",
       "      <td>0.0</td>\n",
       "      <td>0.048213</td>\n",
       "      <td>0.077458</td>\n",
       "      <td>1679.160028</td>\n",
       "    </tr>\n",
       "    <tr>\n",
       "      <th>2024-04-30 22:00:00</th>\n",
       "      <td>0.0</td>\n",
       "      <td>0.0</td>\n",
       "      <td>0.0</td>\n",
       "      <td>0.0</td>\n",
       "      <td>NaN</td>\n",
       "      <td>0.0</td>\n",
       "      <td>0.0</td>\n",
       "      <td>0.0</td>\n",
       "      <td>0.0</td>\n",
       "      <td>NaN</td>\n",
       "      <td>0.0</td>\n",
       "      <td>0.048213</td>\n",
       "      <td>0.077458</td>\n",
       "      <td>1679.160028</td>\n",
       "    </tr>\n",
       "    <tr>\n",
       "      <th>2024-04-30 23:00:00</th>\n",
       "      <td>0.0</td>\n",
       "      <td>0.0</td>\n",
       "      <td>0.0</td>\n",
       "      <td>0.0</td>\n",
       "      <td>NaN</td>\n",
       "      <td>0.0</td>\n",
       "      <td>0.0</td>\n",
       "      <td>0.0</td>\n",
       "      <td>0.0</td>\n",
       "      <td>NaN</td>\n",
       "      <td>0.0</td>\n",
       "      <td>0.048213</td>\n",
       "      <td>0.077458</td>\n",
       "      <td>1679.160028</td>\n",
       "    </tr>\n",
       "  </tbody>\n",
       "</table>\n",
       "<p>1464 rows × 14 columns</p>\n",
       "</div>"
      ],
      "text/plain": [
       "                     temp  dwpt  rhum  prcp  snow  wdir  wspd  wpgt  pres  \\\n",
       "time                                                                        \n",
       "2024-03-01 00:00:00   0.0   0.0   0.0   0.0   NaN   0.0   0.0   0.0   0.0   \n",
       "2024-03-01 01:00:00   0.0   0.0   0.0   0.0   NaN   0.0   0.0   0.0   0.0   \n",
       "2024-03-01 02:00:00   0.0   0.0   0.0   0.0   NaN   0.0   0.0   0.0   0.0   \n",
       "2024-03-01 03:00:00   0.0   0.0   0.0   0.0   NaN   0.0   0.0   0.0   0.0   \n",
       "2024-03-01 04:00:00   0.0   0.0   0.0   0.0   NaN   0.0   0.0   0.0   0.0   \n",
       "...                   ...   ...   ...   ...   ...   ...   ...   ...   ...   \n",
       "2024-04-30 19:00:00   0.0   0.0   0.0   0.0   NaN   0.0   0.0   0.0   0.0   \n",
       "2024-04-30 20:00:00   0.0   0.0   0.0   0.0   NaN   0.0   0.0   0.0   0.0   \n",
       "2024-04-30 21:00:00   0.0   0.0   0.0   0.0   NaN   0.0   0.0   0.0   0.0   \n",
       "2024-04-30 22:00:00   0.0   0.0   0.0   0.0   NaN   0.0   0.0   0.0   0.0   \n",
       "2024-04-30 23:00:00   0.0   0.0   0.0   0.0   NaN   0.0   0.0   0.0   0.0   \n",
       "\n",
       "                     tsun  coco       lon       lat   station_id  \n",
       "time                                                              \n",
       "2024-03-01 00:00:00   NaN   0.0  0.048213  0.077458  1679.160028  \n",
       "2024-03-01 01:00:00   NaN   0.0  0.048213  0.077458  1679.160028  \n",
       "2024-03-01 02:00:00   NaN   0.0  0.048213  0.077458  1679.160028  \n",
       "2024-03-01 03:00:00   NaN   0.0  0.048213  0.077458  1679.160028  \n",
       "2024-03-01 04:00:00   NaN   0.0  0.048213  0.077458  1679.160028  \n",
       "...                   ...   ...       ...       ...          ...  \n",
       "2024-04-30 19:00:00   NaN   0.0  0.048213  0.077458  1679.160028  \n",
       "2024-04-30 20:00:00   NaN   0.0  0.048213  0.077458  1679.160028  \n",
       "2024-04-30 21:00:00   NaN   0.0  0.048213  0.077458  1679.160028  \n",
       "2024-04-30 22:00:00   NaN   0.0  0.048213  0.077458  1679.160028  \n",
       "2024-04-30 23:00:00   NaN   0.0  0.048213  0.077458  1679.160028  \n",
       "\n",
       "[1464 rows x 14 columns]"
      ]
     },
     "execution_count": 77,
     "metadata": {},
     "output_type": "execute_result"
    }
   ],
   "source": [
    "df_meteo.reset_index().groupby('time').std()"
   ]
  },
  {
   "cell_type": "code",
   "execution_count": 46,
   "metadata": {},
   "outputs": [],
   "source": [
    "data.rename(columns={\n",
    "    \"temp\": \"temperature\",\n",
    "    \"dwpt\": \"dew_point_temperature\",\n",
    "    \"rhum\": \"relative_humidity\",\n",
    "    \"prcp\": \"precipitation\",\n",
    "    \"snow\": \"snowfall\",\n",
    "    \"wdir\": \"wind_direction\",\n",
    "    \"wspd\": \"wind_speed\",\n",
    "    \"wpgt\": \"wind_gust\",\n",
    "    \"pres\": \"pressure\",\n",
    "    \"tsun\": \"sunshine_duration\",\n",
    "    \"coco\": \"weather_condition_code\"\n",
    "}, inplace=True)"
   ]
  },
  {
   "cell_type": "markdown",
   "metadata": {},
   "source": [
    "# Open Meteo"
   ]
  },
  {
   "cell_type": "code",
   "execution_count": 105,
   "metadata": {},
   "outputs": [
    {
     "name": "stderr",
     "output_type": "stream",
     "text": [
      "116it [00:32,  3.55it/s]\n"
     ]
    }
   ],
   "source": [
    "start = datetime.strptime(f\"{str(date_min)} 00:00:00\", \"%Y-%m-%d %H:%M:%S\")\n",
    "end = datetime.strptime(f\"{str(date_max)} 23:59:59\", \"%Y-%m-%d %H:%M:%S\")\n",
    "\n",
    "# Define the API endpoint and parameters\n",
    "url = \"https://archive-api.open-meteo.com/v1/archive\"\n",
    "params = {\n",
    "    \"latitude\": 52.2297,\n",
    "    \"longitude\": 21.0122,\n",
    "    \"start_date\": str(date_min),\n",
    "    \"end_date\": str(date_max),\n",
    "    \"hourly\": \"temperature_2m,dewpoint_2m,relative_humidity_2m,precipitation,snowfall,cloudcover,shortwave_radiation,windspeed_10m,winddirection_10m,pressure_msl\",\n",
    "    \"timezone\": \"Europe/Warsaw\"\n",
    "}\n",
    "\n",
    "df_meteo  = pd.DataFrame()\n",
    "\n",
    "for _, row in tqdm(df_stations.iterrows()):\n",
    "\n",
    "    params['latitude'] = row['lat']\n",
    "    params['longitude'] = row['lon']\n",
    "    # Fetch cloud cover data\n",
    "    response = requests.get(url, params=params)\n",
    "    data = response.json()\n",
    "\n",
    "    data =  pd.DataFrame(data['hourly'])\n",
    "\n",
    "    data['lon'] = row['lat']\n",
    "    data['lat'] = row['lon']\n",
    "    data['station_id'] = row['station_id']\n",
    "    data['h3res13'] = row['h3res13']\n",
    "    \n",
    "    df_meteo = pd.concat([df_meteo, data], axis=0)"
   ]
  },
  {
   "cell_type": "code",
   "execution_count": 107,
   "metadata": {},
   "outputs": [],
   "source": [
    "df_meteo.to_parquet(DATA_PATH / 'meteo.parquet', index=False)"
   ]
  }
 ],
 "metadata": {
  "kernelspec": {
   "display_name": "wec25",
   "language": "python",
   "name": "python3"
  },
  "language_info": {
   "codemirror_mode": {
    "name": "ipython",
    "version": 3
   },
   "file_extension": ".py",
   "mimetype": "text/x-python",
   "name": "python",
   "nbconvert_exporter": "python",
   "pygments_lexer": "ipython3",
   "version": "3.12.9"
  }
 },
 "nbformat": 4,
 "nbformat_minor": 2
}
