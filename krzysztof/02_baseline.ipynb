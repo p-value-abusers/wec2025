{
 "cells": [
  {
   "cell_type": "code",
   "execution_count": 1,
   "id": "5934844b-aed4-4302-98fa-4d0d1e87fb84",
   "metadata": {},
   "outputs": [],
   "source": [
    "from matplotlib import pyplot as plt\n",
    "import polars as pl\n",
    "import polars_h3 as plh3\n",
    "\n",
    "from diskcache import FanoutCache\n",
    "import h3\n",
    "import pydeck as pdk\n",
    "import pandas as pd\n",
    "from typing import Optional\n",
    "import matplotlib.pyplot as plt\n",
    "from datetime import date\n",
    "import numpy as np\n",
    "import osmnx as ox\n",
    "import networkx as nx\n",
    "from tqdm import tqdm"
   ]
  },
  {
   "cell_type": "code",
   "execution_count": 2,
   "id": "83d29ff9-b616-4712-8dbd-db8298818dc7",
   "metadata": {},
   "outputs": [],
   "source": [
    "# def download_city_network(city_name, network_type='walk'):\n",
    "#     \"\"\"Download an entire city network once\"\"\"\n",
    "#     print(f\"Downloading {network_type} network for {city_name}...\")\n",
    "#     G = ox.graph_from_place(city_name, network_type=network_type)\n",
    "#     return G\n",
    "\n",
    "# G = download_city_network('Warsaw, Poland')"
   ]
  },
  {
   "cell_type": "code",
   "execution_count": 3,
   "id": "de594ba3-c465-4c5d-b989-45dce7a85a23",
   "metadata": {},
   "outputs": [],
   "source": [
    "# def calculate_walking_distance(h1, h2):  \n",
    "#     lat1, lon1 = h3.cell_to_latlng(h1)\n",
    "#     lat2, lon2 = h3.cell_to_latlng(h2)\n",
    "    \n",
    "#     origin_node = ox.distance.nearest_nodes(G, lon1, lat1)\n",
    "#     destination_node = ox.distance.nearest_nodes(G, lon2, lat2)\n",
    "    \n",
    "#     # Calculate the shortest path\n",
    "#     try:\n",
    "#         route = nx.shortest_path(G, origin_node, destination_node, weight='length')\n",
    "#         # Calculate the total distance of the route in meters\n",
    "#         distance = 0\n",
    "#         for u, v in zip(route[:-1], route[1:]):\n",
    "#             # Get the length of this edge\n",
    "#             data = G.get_edge_data(u, v, 0)  # 0 is the default key for MultiDiGraphs\n",
    "#             distance += data.get('length', 0)\n",
    "#         return distance / 1000\n",
    "#     except nx.NetworkXNoPath:\n",
    "#         return \"No path found between these points.\"\n",
    "\n",
    "import requests\n",
    "import json\n",
    "import h3\n",
    "\n",
    "session = requests.Session()\n",
    "\n",
    "def valhalla_distance(h1, h2, costing='pedestrian'):\n",
    "    \"\"\"Calculate walking distance between two H3 cells using Valhalla\"\"\"\n",
    "    # Convert H3 cells to lat/lon\n",
    "    lat1, lon1 = h3.cell_to_latlng(h1)\n",
    "    lat2, lon2 = h3.cell_to_latlng(h2)\n",
    "    \n",
    "    # Create Valhalla routing request\n",
    "    request = {\n",
    "        \"locations\": [\n",
    "            {\"lat\": lat1, \"lon\": lon1},\n",
    "            {\"lat\": lat2, \"lon\": lon2}\n",
    "        ],\n",
    "        \"costing\": costing,  # pedestrian, bicycle, auto, etc.\n",
    "        \"directions_options\": {\"units\": \"kilometers\"}\n",
    "    }\n",
    "    \n",
    "    # Send request to Valhalla service\n",
    "    response = session.post(\n",
    "        'http://localhost:8002/route',\n",
    "        json=request\n",
    "    )\n",
    "    \n",
    "    # Parse response\n",
    "    if response.status_code == 200:\n",
    "        result = response.json()\n",
    "        # Extract the distance in kilometers\n",
    "        if 'trip' in result and 'legs' in result['trip'] and len(result['trip']['legs']) > 0:\n",
    "            return result['trip']['legs'][0]['summary']['length']  # in kilometers\n",
    "    \n",
    "    return None\n",
    "\n",
    "import polars as pl\n",
    "from concurrent.futures import ThreadPoolExecutor\n",
    "from functools import partial\n",
    "\n",
    "def compute_distances_parallel(df, main_h3id, workers=15):\n",
    "    def wrapper(row, main_h3id):\n",
    "        return valhalla_distance(row, main_h3id)\n",
    "\n",
    "    with ThreadPoolExecutor(max_workers=workers) as executor:\n",
    "        distances = list(executor.map(partial(wrapper, main_h3id=main_h3id), df['h3res13'].to_list()))\n",
    "\n",
    "    df = df.with_columns(pl.Series(name=\"distance_km\", values=distances).alias('walking_distance_from_station_km'))\n",
    "    return df"
   ]
  },
  {
   "cell_type": "code",
   "execution_count": 4,
   "id": "7997b029-531a-4037-8c9a-5891d73a4d95",
   "metadata": {},
   "outputs": [],
   "source": [
    "traffic = pl.read_parquet('../for_participants/data_parquet/traffic_train.parquet')\n",
    "\n",
    "signals = pl.read_parquet('../for_participants/data_parquet/signals.parquet')\n",
    "roads = pl.read_parquet('../for_participants/data_parquet/roads.parquet')\n",
    "pois = pl.read_parquet('../for_participants/data_parquet/pois.parquet')\n",
    "\n",
    "signals = signals.with_columns([\n",
    "    plh3.cell_to_latlng(\"h3res13\").list.to_struct(fields=[\"lat\", \"lon\"]).alias(\"latlng\")\n",
    "]).unnest(\"latlng\")\n",
    "\n",
    "pois = pois.with_columns([\n",
    "    plh3.cell_to_latlng(\"h3res13\").list.to_struct(fields=[\"lat\", \"lon\"]).alias(\"latlng\")\n",
    "]).unnest(\"latlng\")"
   ]
  },
  {
   "cell_type": "code",
   "execution_count": 5,
   "id": "1ec3513a-647d-4198-9bcd-5b0b9943c279",
   "metadata": {},
   "outputs": [
    {
     "data": {
      "text/html": [
       "<div><style>\n",
       ".dataframe > thead > tr,\n",
       ".dataframe > tbody > tr {\n",
       "  text-align: right;\n",
       "  white-space: pre-wrap;\n",
       "}\n",
       "</style>\n",
       "<small>shape: (41_119, 25)</small><table border=\"1\" class=\"dataframe\"><thead><tr><th>h3res13</th><th>accommodation</th><th>active_life</th><th>arts_and_entertainment</th><th>attractions_and_activities</th><th>automotive</th><th>beauty_and_spa</th><th>business_to_business</th><th>eat_and_drink</th><th>education</th><th>financial_service</th><th>health_and_medical</th><th>home_service</th><th>mass_media</th><th>pets</th><th>private_establishments_and_corporates</th><th>professional_services</th><th>public_service_and_government</th><th>real_estate</th><th>religious_organization</th><th>retail</th><th>structure_and_geography</th><th>travel</th><th>lat</th><th>lon</th></tr><tr><td>str</td><td>i64</td><td>i64</td><td>i64</td><td>i64</td><td>i64</td><td>i64</td><td>i64</td><td>i64</td><td>i64</td><td>i64</td><td>i64</td><td>i64</td><td>i64</td><td>i64</td><td>i64</td><td>i64</td><td>i64</td><td>i64</td><td>i64</td><td>i64</td><td>i64</td><td>i64</td><td>f64</td><td>f64</td></tr></thead><tbody><tr><td>&quot;8d1f52240b2923f&quot;</td><td>1</td><td>0</td><td>0</td><td>0</td><td>0</td><td>0</td><td>0</td><td>0</td><td>0</td><td>0</td><td>0</td><td>0</td><td>0</td><td>0</td><td>0</td><td>0</td><td>0</td><td>0</td><td>0</td><td>0</td><td>0</td><td>0</td><td>52.161318</td><td>20.935229</td></tr><tr><td>&quot;8d1f52240b2ddbf&quot;</td><td>0</td><td>0</td><td>0</td><td>0</td><td>0</td><td>0</td><td>0</td><td>1</td><td>0</td><td>0</td><td>0</td><td>0</td><td>0</td><td>0</td><td>0</td><td>0</td><td>0</td><td>0</td><td>0</td><td>0</td><td>0</td><td>0</td><td>52.161778</td><td>20.934252</td></tr><tr><td>&quot;8d1f52240b404ff&quot;</td><td>0</td><td>0</td><td>0</td><td>0</td><td>0</td><td>0</td><td>1</td><td>0</td><td>0</td><td>0</td><td>0</td><td>1</td><td>1</td><td>0</td><td>0</td><td>0</td><td>0</td><td>0</td><td>0</td><td>0</td><td>0</td><td>0</td><td>52.160497</td><td>20.937711</td></tr><tr><td>&quot;8d1f52240b434bf&quot;</td><td>0</td><td>0</td><td>0</td><td>0</td><td>0</td><td>0</td><td>0</td><td>0</td><td>1</td><td>0</td><td>0</td><td>0</td><td>0</td><td>0</td><td>0</td><td>0</td><td>0</td><td>0</td><td>0</td><td>0</td><td>0</td><td>0</td><td>52.16014</td><td>20.937959</td></tr><tr><td>&quot;8d1f52240b636bf&quot;</td><td>0</td><td>0</td><td>0</td><td>0</td><td>0</td><td>0</td><td>0</td><td>0</td><td>0</td><td>0</td><td>0</td><td>0</td><td>0</td><td>0</td><td>0</td><td>1</td><td>0</td><td>0</td><td>0</td><td>0</td><td>0</td><td>0</td><td>52.161157</td><td>20.937891</td></tr><tr><td>&hellip;</td><td>&hellip;</td><td>&hellip;</td><td>&hellip;</td><td>&hellip;</td><td>&hellip;</td><td>&hellip;</td><td>&hellip;</td><td>&hellip;</td><td>&hellip;</td><td>&hellip;</td><td>&hellip;</td><td>&hellip;</td><td>&hellip;</td><td>&hellip;</td><td>&hellip;</td><td>&hellip;</td><td>&hellip;</td><td>&hellip;</td><td>&hellip;</td><td>&hellip;</td><td>&hellip;</td><td>&hellip;</td><td>&hellip;</td><td>&hellip;</td></tr><tr><td>&quot;8d1f53d9e329bbf&quot;</td><td>0</td><td>0</td><td>0</td><td>0</td><td>0</td><td>0</td><td>0</td><td>1</td><td>0</td><td>0</td><td>0</td><td>0</td><td>0</td><td>0</td><td>0</td><td>0</td><td>0</td><td>0</td><td>0</td><td>0</td><td>0</td><td>0</td><td>52.345513</td><td>20.926222</td></tr><tr><td>&quot;8d1f53d9e354d3f&quot;</td><td>0</td><td>0</td><td>0</td><td>0</td><td>0</td><td>0</td><td>0</td><td>0</td><td>0</td><td>0</td><td>0</td><td>0</td><td>0</td><td>0</td><td>0</td><td>0</td><td>0</td><td>1</td><td>0</td><td>0</td><td>0</td><td>0</td><td>52.344447</td><td>20.926866</td></tr><tr><td>&quot;8d1f53d9e3746ff&quot;</td><td>0</td><td>0</td><td>1</td><td>1</td><td>1</td><td>0</td><td>0</td><td>0</td><td>0</td><td>0</td><td>0</td><td>0</td><td>0</td><td>0</td><td>0</td><td>0</td><td>0</td><td>0</td><td>0</td><td>1</td><td>0</td><td>0</td><td>52.345206</td><td>20.926946</td></tr><tr><td>&quot;8d1f53d9eac473f&quot;</td><td>0</td><td>0</td><td>0</td><td>0</td><td>0</td><td>0</td><td>0</td><td>0</td><td>1</td><td>0</td><td>0</td><td>1</td><td>0</td><td>0</td><td>0</td><td>1</td><td>0</td><td>0</td><td>0</td><td>0</td><td>0</td><td>0</td><td>52.347438</td><td>20.926186</td></tr><tr><td>&quot;8d1f53d9eaed27f&quot;</td><td>0</td><td>0</td><td>0</td><td>0</td><td>0</td><td>0</td><td>0</td><td>0</td><td>0</td><td>0</td><td>0</td><td>0</td><td>0</td><td>0</td><td>0</td><td>1</td><td>0</td><td>0</td><td>0</td><td>0</td><td>0</td><td>0</td><td>52.348191</td><td>20.928783</td></tr></tbody></table></div>"
      ],
      "text/plain": [
       "shape: (41_119, 25)\n",
       "┌─────────────────┬───────────────┬─────────────┬────────────────┬───┬────────────────┬────────┬───────────┬───────────┐\n",
       "│ h3res13         ┆ accommodation ┆ active_life ┆ arts_and_enter ┆ … ┆ structure_and_ ┆ travel ┆ lat       ┆ lon       │\n",
       "│ ---             ┆ ---           ┆ ---         ┆ tainment       ┆   ┆ geography      ┆ ---    ┆ ---       ┆ ---       │\n",
       "│ str             ┆ i64           ┆ i64         ┆ ---            ┆   ┆ ---            ┆ i64    ┆ f64       ┆ f64       │\n",
       "│                 ┆               ┆             ┆ i64            ┆   ┆ i64            ┆        ┆           ┆           │\n",
       "╞═════════════════╪═══════════════╪═════════════╪════════════════╪═══╪════════════════╪════════╪═══════════╪═══════════╡\n",
       "│ 8d1f52240b2923f ┆ 1             ┆ 0           ┆ 0              ┆ … ┆ 0              ┆ 0      ┆ 52.161318 ┆ 20.935229 │\n",
       "│ 8d1f52240b2ddbf ┆ 0             ┆ 0           ┆ 0              ┆ … ┆ 0              ┆ 0      ┆ 52.161778 ┆ 20.934252 │\n",
       "│ 8d1f52240b404ff ┆ 0             ┆ 0           ┆ 0              ┆ … ┆ 0              ┆ 0      ┆ 52.160497 ┆ 20.937711 │\n",
       "│ 8d1f52240b434bf ┆ 0             ┆ 0           ┆ 0              ┆ … ┆ 0              ┆ 0      ┆ 52.16014  ┆ 20.937959 │\n",
       "│ 8d1f52240b636bf ┆ 0             ┆ 0           ┆ 0              ┆ … ┆ 0              ┆ 0      ┆ 52.161157 ┆ 20.937891 │\n",
       "│ …               ┆ …             ┆ …           ┆ …              ┆ … ┆ …              ┆ …      ┆ …         ┆ …         │\n",
       "│ 8d1f53d9e329bbf ┆ 0             ┆ 0           ┆ 0              ┆ … ┆ 0              ┆ 0      ┆ 52.345513 ┆ 20.926222 │\n",
       "│ 8d1f53d9e354d3f ┆ 0             ┆ 0           ┆ 0              ┆ … ┆ 0              ┆ 0      ┆ 52.344447 ┆ 20.926866 │\n",
       "│ 8d1f53d9e3746ff ┆ 0             ┆ 0           ┆ 1              ┆ … ┆ 0              ┆ 0      ┆ 52.345206 ┆ 20.926946 │\n",
       "│ 8d1f53d9eac473f ┆ 0             ┆ 0           ┆ 0              ┆ … ┆ 0              ┆ 0      ┆ 52.347438 ┆ 20.926186 │\n",
       "│ 8d1f53d9eaed27f ┆ 0             ┆ 0           ┆ 0              ┆ … ┆ 0              ┆ 0      ┆ 52.348191 ┆ 20.928783 │\n",
       "└─────────────────┴───────────────┴─────────────┴────────────────┴───┴────────────────┴────────┴───────────┴───────────┘"
      ]
     },
     "execution_count": 5,
     "metadata": {},
     "output_type": "execute_result"
    }
   ],
   "source": [
    "pois"
   ]
  },
  {
   "cell_type": "code",
   "execution_count": 6,
   "id": "4a1c5025-cfa3-4bcb-b7e8-14dc418c3d0d",
   "metadata": {},
   "outputs": [
    {
     "name": "stderr",
     "output_type": "stream",
     "text": [
      "100%|██████████████████████████████████████████████████████████████████████████████████| 70/70 [03:58<00:00,  3.41s/it]\n"
     ]
    }
   ],
   "source": [
    "output = []\n",
    "\n",
    "window_size = 0.02\n",
    "\n",
    "for (station_id, station_h3, lat, lon), traffic_for_station_and_day in tqdm(\n",
    "    traffic.group_by(['station_id', 'h3res13', 'lat', 'lon']),\n",
    "    total=len(list(traffic.group_by(['station_id'])))\n",
    "):\n",
    "    filtered_pois = pois.filter(\n",
    "        (pl.col(\"lat\") >= lat-window_size) & (pl.col(\"lat\") <= lat+window_size) &\n",
    "        (pl.col(\"lon\") >= lon-window_size) & (pl.col(\"lon\") <= lon+window_size)\n",
    "    ).with_columns(\n",
    "        [\n",
    "            pl.lit(station_id).alias(\"station_id\"),\n",
    "            pl.lit(station_h3).alias(\"station_h3\"),\n",
    "            pl.lit(lat).alias(\"station_lat\"),\n",
    "            pl.lit(lon).alias(\"station_lon\")\n",
    "        ]\n",
    "    ).with_columns(\n",
    "        [\n",
    "            plh3.great_circle_distance(\n",
    "                \"lat\", \"lon\", \"station_lat\", \"station_lon\", unit=\"km\"\n",
    "            ).alias('distance_from_station_km')\n",
    "        ]\n",
    "    ).filter(\n",
    "        pl.col('distance_from_station_km') <= 1\n",
    "    )\n",
    "\n",
    "    filtered_pois_with_distance = compute_distances_parallel(filtered_pois, station_h3)\n",
    "\n",
    "    output.append(filtered_pois_with_distance)"
   ]
  },
  {
   "cell_type": "code",
   "execution_count": 11,
   "id": "42656941-1d3f-436f-aeb0-c6f2598e09ab",
   "metadata": {},
   "outputs": [],
   "source": [
    "pl.concat(output, how=\"vertical\").write_parquet('pois_walking_distance.parquet')"
   ]
  },
  {
   "cell_type": "code",
   "execution_count": null,
   "id": "e2308153-8b79-4e3b-926f-0238d0adf21b",
   "metadata": {},
   "outputs": [],
   "source": []
  }
 ],
 "metadata": {
  "kernelspec": {
   "display_name": "Python 3 (ipykernel)",
   "language": "python",
   "name": "python3"
  },
  "language_info": {
   "codemirror_mode": {
    "name": "ipython",
    "version": 3
   },
   "file_extension": ".py",
   "mimetype": "text/x-python",
   "name": "python",
   "nbconvert_exporter": "python",
   "pygments_lexer": "ipython3",
   "version": "3.12.8"
  }
 },
 "nbformat": 4,
 "nbformat_minor": 5
}
