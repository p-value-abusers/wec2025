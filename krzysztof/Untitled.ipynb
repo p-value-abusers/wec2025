{
 "cells": [
  {
   "cell_type": "code",
   "execution_count": 1,
   "id": "5a5a6986-8588-4ef1-ba05-0340f511f018",
   "metadata": {},
   "outputs": [],
   "source": [
    "import requests\n",
    "import json\n",
    "import h3\n",
    "\n",
    "def valhalla_distance(h1, h2, costing='pedestrian'):\n",
    "    \"\"\"Calculate walking distance between two H3 cells using Valhalla\"\"\"\n",
    "    # Convert H3 cells to lat/lon\n",
    "    lat1, lon1 = h3.cell_to_latlng(h1)\n",
    "    lat2, lon2 = h3.cell_to_latlng(h2)\n",
    "    \n",
    "    # Create Valhalla routing request\n",
    "    request = {\n",
    "        \"locations\": [\n",
    "            {\"lat\": lat1, \"lon\": lon1},\n",
    "            {\"lat\": lat2, \"lon\": lon2}\n",
    "        ],\n",
    "        \"costing\": costing,  # pedestrian, bicycle, auto, etc.\n",
    "        \"directions_options\": {\"units\": \"kilometers\"}\n",
    "    }\n",
    "    \n",
    "    # Send request to Valhalla service\n",
    "    response = requests.post(\n",
    "        'http://localhost:8002/route',\n",
    "        json=request\n",
    "    )\n",
    "    \n",
    "    # Parse response\n",
    "    if response.status_code == 200:\n",
    "        result = response.json()\n",
    "        # Extract the distance in kilometers\n",
    "        if 'trip' in result and 'legs' in result['trip'] and len(result['trip']['legs']) > 0:\n",
    "            return result['trip']['legs'][0]['summary']['length']  # in kilometers\n",
    "    \n",
    "    return None"
   ]
  },
  {
   "cell_type": "code",
   "execution_count": 5,
   "id": "b7b47c1b-cc21-4c71-84c2-e0c245448970",
   "metadata": {},
   "outputs": [
    {
     "data": {
      "text/plain": [
       "25.772"
      ]
     },
     "execution_count": 5,
     "metadata": {},
     "output_type": "execute_result"
    }
   ],
   "source": [
    "valhalla_distance('8d1f52240a6107f', '8d1f53d9d6decff')"
   ]
  },
  {
   "cell_type": "code",
   "execution_count": null,
   "id": "1d63130a-bceb-4f92-8f6f-2956845c1cbd",
   "metadata": {},
   "outputs": [],
   "source": []
  }
 ],
 "metadata": {
  "kernelspec": {
   "display_name": "Python 3 (ipykernel)",
   "language": "python",
   "name": "python3"
  },
  "language_info": {
   "codemirror_mode": {
    "name": "ipython",
    "version": 3
   },
   "file_extension": ".py",
   "mimetype": "text/x-python",
   "name": "python",
   "nbconvert_exporter": "python",
   "pygments_lexer": "ipython3",
   "version": "3.12.8"
  }
 },
 "nbformat": 4,
 "nbformat_minor": 5
}
