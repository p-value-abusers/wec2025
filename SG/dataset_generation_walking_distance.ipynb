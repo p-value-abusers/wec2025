{
 "cells": [
  {
   "cell_type": "markdown",
   "id": "fb69106c",
   "metadata": {},
   "source": [
    "# Here i make the same feature engingeering as in dataset generation, but instead of euclidean distance i take walking distance calculated by Krzysztof"
   ]
  },
  {
   "cell_type": "code",
   "execution_count": 46,
   "id": "d45ce6d1",
   "metadata": {},
   "outputs": [],
   "source": [
    "import pandas as pd\n",
    "import h3\n",
    "traffic_data = pd.read_parquet(\"../for_participants/data_parquet/traffic_train.parquet\")\n",
    "pois_df = pd.read_parquet(\"../for_participants/data_parquet/pois.parquet\")"
   ]
  },
  {
   "cell_type": "code",
   "execution_count": 47,
   "id": "4f0bf2fa",
   "metadata": {},
   "outputs": [],
   "source": [
    "wd = pd.read_parquet(\"../krzysztof/pois_walking_distance.parquet\")"
   ]
  },
  {
   "cell_type": "code",
   "execution_count": 48,
   "id": "b1700307",
   "metadata": {},
   "outputs": [],
   "source": [
    "df_left = pd.DataFrame(wd[\"station_h3\"].unique())\n",
    "df_left.columns = [\"station_h3\"]"
   ]
  },
  {
   "cell_type": "code",
   "execution_count": 49,
   "id": "ebd7cd4e",
   "metadata": {},
   "outputs": [],
   "source": [
    "results = []\n",
    "for dist in [0.2, 0.4, 0.6, 0.8, 1]:\n",
    "    wd0 = wd[wd.walking_distance_from_station_km < dist]\n",
    "    df0 = df_left.merge(wd0.groupby(\"station_h3\")[['accommodation', 'active_life', 'arts_and_entertainment',\n",
    "       'attractions_and_activities', 'automotive', 'beauty_and_spa',\n",
    "       'business_to_business', 'eat_and_drink', 'education',\n",
    "       'financial_service', 'health_and_medical', 'home_service', 'mass_media',\n",
    "       'pets', 'private_establishments_and_corporates',\n",
    "       'professional_services', 'public_service_and_government', 'real_estate',\n",
    "       'religious_organization', 'retail', 'structure_and_geography', 'travel']].sum(), left_on = \"station_h3\", right_index = True, how = \"left\")\n",
    "    new_columns = {\n",
    "        col: col + \"_wd\" + str(dist) if col != \"station_h3\" else col\n",
    "        for col in df0.columns\n",
    "    }\n",
    "    df0 = df0.rename(columns = new_columns)\n",
    "    results.append(df0)"
   ]
  },
  {
   "cell_type": "code",
   "execution_count": 50,
   "id": "8177e812",
   "metadata": {},
   "outputs": [],
   "source": [
    "df_wd = pd.concat(results, axis =1)"
   ]
  },
  {
   "cell_type": "code",
   "execution_count": 51,
   "id": "1618a319",
   "metadata": {},
   "outputs": [],
   "source": [
    "df_wd = df_wd.fillna(0)"
   ]
  },
  {
   "cell_type": "code",
   "execution_count": 52,
   "id": "73785e6d",
   "metadata": {},
   "outputs": [],
   "source": [
    "df_wd = df_wd.loc[:, ~df_wd.columns.duplicated()]"
   ]
  },
  {
   "cell_type": "code",
   "execution_count": 53,
   "id": "8fda00bd",
   "metadata": {},
   "outputs": [],
   "source": [
    "df_wd.to_parquet(\"dfs_processed/df_pois_agg_wd.parquet\")"
   ]
  },
  {
   "cell_type": "code",
   "execution_count": null,
   "id": "d4c04312",
   "metadata": {},
   "outputs": [],
   "source": []
  }
 ],
 "metadata": {
  "kernelspec": {
   "display_name": "venv",
   "language": "python",
   "name": "python3"
  },
  "language_info": {
   "codemirror_mode": {
    "name": "ipython",
    "version": 3
   },
   "file_extension": ".py",
   "mimetype": "text/x-python",
   "name": "python",
   "nbconvert_exporter": "python",
   "pygments_lexer": "ipython3",
   "version": "3.13.3"
  }
 },
 "nbformat": 4,
 "nbformat_minor": 5
}
